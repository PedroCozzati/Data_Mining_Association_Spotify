{
 "cells": [
  {
   "cell_type": "markdown",
   "id": "2535fd11",
   "metadata": {},
   "source": [
    "# Mineração de Dados utilizando a metodologia CRISP-DM"
   ]
  },
  {
   "cell_type": "markdown",
   "id": "f769b4f4",
   "metadata": {},
   "source": [
    "## 1. Introdução\n",
    "\n",
    "### O nome Crisp-DM é uma sigla para o inglês Cross Industry Standard Process for Data Mining, que em português significa algo como “Processo Padrão Inter-Indústrias para Mineração de Dados”. O objetivo dessa metodologia é desenvolver modelos a partir da análise de informações e dados de um negócio para prever futuras falhas e soluções.\n",
    "\n",
    "### A metodologia Crisp-DM é dividida em seis etapas fundamentais, cada uma com suas particularidades e funcionalidades.\n",
    "\n",
    "### As três primeiras etapas tem como objetivo a coleta e organização dos dados a serem analisados, envolvendo o entedimento do negócio, dados e a preparação dos dados."
   ]
  },
  {
   "cell_type": "markdown",
   "id": "955d32cc",
   "metadata": {},
   "source": [
    "<img src='https://miro.medium.com/v2/resize:fit:988/0*tA5OjppLK627FfFo' width=360>"
   ]
  },
  {
   "cell_type": "markdown",
   "id": "e44ac4ae",
   "metadata": {},
   "source": [
    "###  Na imagem acima, é possível ver todas as etapas dessa metodologia, e algo interessante é que ela é um ciclo, então as etapas podem ser revistas e os processos podem ser melhorados mesmo depois de estabelecidos."
   ]
  },
  {
   "cell_type": "markdown",
   "id": "daf358b0",
   "metadata": {},
   "source": [
    "## 2. Entendimento do negócio\n",
    "\n",
    "### Objetivo do projeto:  Analisar uma amostra de dados de usuários do Spotify, que contém informações sobre o que os usuário desse serviço de Streaming escutam em suas playlists, com o objetivo de encontrar associações. Por exemplo, se o usuário assiste a música/artista X, qual a chance dele também ouvir a música/artista Y?  "
   ]
  },
  {
   "cell_type": "markdown",
   "id": "d7d9a71d",
   "metadata": {},
   "source": [
    "## 3. Entendimento dos dados\n",
    "\n",
    "### Os dados serão obtidos através do site AiCrowd, onde é possível baixar o dataset (OBS: Os dados estão sendo disponibilizados devido a um desafio proposto, os dados não podem ser utilizados para fins comerciais, ver mais em https://www.aicrowd.com/challenges/spotify-million-playlist-dataset-challenge).\n",
    "\n",
    "### Informações da base de dados fornecidas pelo Spotify\n",
    "\n",
    "### Genero\n",
    " * Male: 45%\n",
    " * Female: 54%\n",
    " * Unspecified: 0.5%\n",
    " * Nonbinary: 0.5%\n",
    "\n",
    "### Idade\n",
    " * 13-17:  10%\n",
    " * 18-24:  43%\n",
    " * 25-34:  31%\n",
    " * 35-44:   9%\n",
    " * 45-54:   4%\n",
    " * 55+:     3%\n",
    "\n",
    "### País\n",
    " * US: 100%\n",
    " \n",
    "### Estatísticas\n",
    " - number of playlists 1000000\n",
    " - number of tracks 66346428\n",
    " - number of unique tracks 2262292\n",
    " - number of unique albums 734684\n",
    " - number of unique artists 295860\n",
    " - number of unique titles 92944\n",
    " - number of playlists with descriptions 18760\n",
    " - number of unique normalized titles 17381\n",
    " - avg playlist length 66.346428\n",
    "\n",
    "### Formato dos dados: JSON\n",
    "\n",
    "### Estrutura dos dados: Os dados são estruturados, possuindo 2 colunas, sendo o título da série/filme e a data que o usuário assistiu\n",
    "\n",
    "### Demonstração\n",
    "\n",
    "Cada arquivo é um dicionário JSON com dois campos:\n",
    "*info* e *playlists*.\n",
    "\n",
    "### campo `info` \n",
    "Contém informações gerais sobre o arquivo:\n",
    "\n",
    "   * **slice** - the range of slices that in in this particular file - such as 0-999\n",
    "   * ***version*** -  - the current version of the MPD (which should be v1)\n",
    "   * ***description*** - a description of the MPD\n",
    "   * ***license*** - licensing info for the MPD\n",
    "   * ***generated_on*** - a timestamp indicating when the slice was generated.\n",
    "\n",
    "### campo `playlists` \n",
    "É uma lista que normalmente contém 1000 playlists, cada playlist é um dicionário que contém os seguintes campos:\n",
    "\n",
    "* ***pid*** - integer - playlist id - the MPD ID of this playlist. This is an integer between 0 and 999,999.\n",
    "* ***name*** - string - the name of the playlist \n",
    "* ***description*** - optional string - if present, the description given to the playlist.  Note that user-provided playlist descrptions are a relatively new feature of Spotify, so most playlists do not have descriptions.\n",
    "* ***modified_at*** - seconds - timestamp (in seconds since the epoch) when this playlist was last updated. Times are rounded to midnight GMT of the date when the playlist was last updated.\n",
    "* ***num_artists*** - the total number of unique artists for the tracks in the playlist.\n",
    "* ***num_albums*** - the number of unique albums for the tracks in the playlist\n",
    "* ***num_tracks*** - the number of tracks in the playlist\n",
    "* ***num_followers*** - the number of followers this playlist had at the time the MPD was created. (Note that the follower count does not including the playlist creator)\n",
    "* ***num_edits*** - the number of separate editing sessions. Tracks added in a two hour window are considered to be added in a single editing session.\n",
    "* ***duration_ms*** - the total duration of all the tracks in the playlist (in milliseconds)\n",
    "* ***collaborative*** -  boolean - if true, the playlist is a collaborative playlist. Multiple users may contribute tracks to a collaborative playlist.\n",
    "* ***tracks*** - an array of information about each track in the playlist. Each element in the array is a dictionary with the following fields:\n",
    "   * ***track_name*** - the name of the track\n",
    "   * ***track_uri*** - the Spotify URI of the track\n",
    "   * ***album_name*** - the name of the track's album\n",
    "   * ***album_uri*** - the Spotify URI of the album\n",
    "   * ***artist_name*** - the name of the track's primary artist\n",
    "   * ***artist_uri*** - the Spotify URI of track's primary artist\n",
    "   * ***duration_ms*** - the duration of the track in milliseconds\n",
    "   * ***pos*** - the position of the track in the playlist (zero-based)\n",
    "\n",
    "Exemplo de uma playlist no JSON:\n",
    "  \n",
    "        {\n",
    "            \"name\": \"musical\",\n",
    "            \"collaborative\": \"false\",\n",
    "            \"pid\": 5,\n",
    "            \"modified_at\": 1493424000,\n",
    "            \"num_albums\": 7,\n",
    "            \"num_tracks\": 12,\n",
    "            \"num_followers\": 1,\n",
    "            \"num_edits\": 2,\n",
    "            \"duration_ms\": 2657366,\n",
    "            \"num_artists\": 6,\n",
    "            \"tracks\": [\n",
    "                {\n",
    "                    \"pos\": 0,\n",
    "                    \"artist_name\": \"Degiheugi\",\n",
    "                    \"track_uri\": \"spotify:track:7vqa3sDmtEaVJ2gcvxtRID\",\n",
    "                    \"artist_uri\": \"spotify:artist:3V2paBXEoZIAhfZRJmo2jL\",\n",
    "                    \"track_name\": \"Finalement\",\n",
    "                    \"album_uri\": \"spotify:album:2KrRMJ9z7Xjoz1Az4O6UML\",\n",
    "                    \"duration_ms\": 166264,\n",
    "                    \"album_name\": \"Dancing Chords and Fireflies\"\n",
    "                },\n",
    "                {\n",
    "                    \"pos\": 1,\n",
    "                    \"artist_name\": \"Degiheugi\",\n",
    "                    \"track_uri\": \"spotify:track:23EOmJivOZ88WJPUbIPjh6\",\n",
    "                    \"artist_uri\": \"spotify:artist:3V2paBXEoZIAhfZRJmo2jL\",\n",
    "                    \"track_name\": \"Betty\",\n",
    "                    \"album_uri\": \"spotify:album:3lUSlvjUoHNA8IkNTqURqd\",\n",
    "                    \"duration_ms\": 235534,\n",
    "                    \"album_name\": \"Endless Smile\"\n",
    "                },\n",
    "                {\n",
    "                    \"pos\": 2,\n",
    "                    \"artist_name\": \"Degiheugi\",\n",
    "                    \"track_uri\": \"spotify:track:1vaffTCJxkyqeJY7zF9a55\",\n",
    "                    \"artist_uri\": \"spotify:artist:3V2paBXEoZIAhfZRJmo2jL\",\n",
    "                    \"track_name\": \"Some Beat in My Head\",\n",
    "                    \"album_uri\": \"spotify:album:2KrRMJ9z7Xjoz1Az4O6UML\",\n",
    "                    \"duration_ms\": 268050,\n",
    "                    \"album_name\": \"Dancing Chords and Fireflies\"\n",
    "                },\n",
    "                // 8 tracks omitted\n",
    "                {\n",
    "                    \"pos\": 11,\n",
    "                    \"artist_name\": \"Mo' Horizons\",\n",
    "                    \"track_uri\": \"spotify:track:7iwx00eBzeSSSy6xfESyWN\",\n",
    "                    \"artist_uri\": \"spotify:artist:3tuX54dqgS8LsGUvNzgrpP\",\n",
    "                    \"track_name\": \"Fever 99\\u00b0\",\n",
    "                    \"album_uri\": \"spotify:album:2Fg1t2tyOSGWkVYHlFfXVf\",\n",
    "                    \"duration_ms\": 364320,\n",
    "                    \"album_name\": \"Come Touch The Sun\"\n",
    "                }\n",
    "            ],\n",
    "\n",
    "        }\n"
   ]
  },
  {
   "cell_type": "markdown",
   "id": "d1f00a87",
   "metadata": {},
   "source": [
    "## 4. Preparação dos dados\n",
    "\n",
    "### Os dados que serão utilizados já estão bem estruturados e documentados, o que diminui os esforços do processo de preparação e tratamento de dados. Porém algumas coisas devem ser feitas:\n",
    "\n",
    "#### 1. Eliminar nulos e playlists sem músicas\n",
    "#### 2. Reordernar dados para a estrutura csv, onde cada linha será uma playlist, exemplo: \n",
    "ID&emsp;&emsp;&emsp;, Item 1&emsp;&emsp;&emsp;&emsp;&emsp;, Item 2&emsp;&emsp;&emsp;&emsp;&emsp;, Item 3 &emsp;&emsp;&emsp;&emsp;&emsp;, Item 4&emsp;&emsp;&emsp;&emsp;&emsp;... <br>\n",
    "1048588, artista X/musica Y, artista X/musica Z, artista X/musica Z, artista X/musica Z... <br>\n",
    "1048589, artista X/musica Z, artista X/musica Z, artista X/musica Z, artista X/musica Z... <br>\n",
    "\n",
    "### Etapa prática:"
   ]
  },
  {
   "cell_type": "markdown",
   "id": "9616f184",
   "metadata": {},
   "source": [
    "### Visualização dos dados coletados:"
   ]
  },
  {
   "cell_type": "code",
   "execution_count": 49,
   "id": "65d4f2fc",
   "metadata": {},
   "outputs": [
    {
     "data": {
      "text/html": [
       "<div>\n",
       "<style scoped>\n",
       "    .dataframe tbody tr th:only-of-type {\n",
       "        vertical-align: middle;\n",
       "    }\n",
       "\n",
       "    .dataframe tbody tr th {\n",
       "        vertical-align: top;\n",
       "    }\n",
       "\n",
       "    .dataframe thead th {\n",
       "        text-align: right;\n",
       "    }\n",
       "</style>\n",
       "<table border=\"1\" class=\"dataframe\">\n",
       "  <thead>\n",
       "    <tr style=\"text-align: right;\">\n",
       "      <th></th>\n",
       "      <th>name</th>\n",
       "      <th>collaborative</th>\n",
       "      <th>pid</th>\n",
       "      <th>modified_at</th>\n",
       "      <th>num_tracks</th>\n",
       "      <th>num_albums</th>\n",
       "      <th>num_followers</th>\n",
       "      <th>tracks</th>\n",
       "      <th>num_edits</th>\n",
       "      <th>duration_ms</th>\n",
       "      <th>num_artists</th>\n",
       "    </tr>\n",
       "  </thead>\n",
       "  <tbody>\n",
       "    <tr>\n",
       "      <th>0</th>\n",
       "      <td>Throwbacks</td>\n",
       "      <td>false</td>\n",
       "      <td>0</td>\n",
       "      <td>1493424000</td>\n",
       "      <td>52</td>\n",
       "      <td>47</td>\n",
       "      <td>1</td>\n",
       "      <td>[{'pos': 0, 'artist_name': 'Missy Elliott', 't...</td>\n",
       "      <td>6</td>\n",
       "      <td>11532414</td>\n",
       "      <td>37</td>\n",
       "    </tr>\n",
       "    <tr>\n",
       "      <th>1</th>\n",
       "      <td>Awesome Playlist</td>\n",
       "      <td>false</td>\n",
       "      <td>1</td>\n",
       "      <td>1506556800</td>\n",
       "      <td>39</td>\n",
       "      <td>23</td>\n",
       "      <td>1</td>\n",
       "      <td>[{'pos': 0, 'artist_name': 'Survivor', 'track_...</td>\n",
       "      <td>5</td>\n",
       "      <td>11656470</td>\n",
       "      <td>21</td>\n",
       "    </tr>\n",
       "    <tr>\n",
       "      <th>2</th>\n",
       "      <td>korean</td>\n",
       "      <td>false</td>\n",
       "      <td>2</td>\n",
       "      <td>1505692800</td>\n",
       "      <td>64</td>\n",
       "      <td>51</td>\n",
       "      <td>1</td>\n",
       "      <td>[{'pos': 0, 'artist_name': 'Hoody', 'track_uri...</td>\n",
       "      <td>18</td>\n",
       "      <td>14039958</td>\n",
       "      <td>31</td>\n",
       "    </tr>\n",
       "    <tr>\n",
       "      <th>3</th>\n",
       "      <td>mat</td>\n",
       "      <td>false</td>\n",
       "      <td>3</td>\n",
       "      <td>1501027200</td>\n",
       "      <td>126</td>\n",
       "      <td>107</td>\n",
       "      <td>1</td>\n",
       "      <td>[{'pos': 0, 'artist_name': 'Camille Saint-Saën...</td>\n",
       "      <td>4</td>\n",
       "      <td>28926058</td>\n",
       "      <td>86</td>\n",
       "    </tr>\n",
       "    <tr>\n",
       "      <th>4</th>\n",
       "      <td>90s</td>\n",
       "      <td>false</td>\n",
       "      <td>4</td>\n",
       "      <td>1401667200</td>\n",
       "      <td>17</td>\n",
       "      <td>16</td>\n",
       "      <td>2</td>\n",
       "      <td>[{'pos': 0, 'artist_name': 'The Smashing Pumpk...</td>\n",
       "      <td>7</td>\n",
       "      <td>4335282</td>\n",
       "      <td>16</td>\n",
       "    </tr>\n",
       "    <tr>\n",
       "      <th>5</th>\n",
       "      <td>Wedding</td>\n",
       "      <td>false</td>\n",
       "      <td>5</td>\n",
       "      <td>1430956800</td>\n",
       "      <td>80</td>\n",
       "      <td>71</td>\n",
       "      <td>1</td>\n",
       "      <td>[{'pos': 0, 'artist_name': 'Cali Swag District...</td>\n",
       "      <td>3</td>\n",
       "      <td>19156557</td>\n",
       "      <td>56</td>\n",
       "    </tr>\n",
       "    <tr>\n",
       "      <th>6</th>\n",
       "      <td>I Put A Spell On You</td>\n",
       "      <td>false</td>\n",
       "      <td>6</td>\n",
       "      <td>1477094400</td>\n",
       "      <td>16</td>\n",
       "      <td>15</td>\n",
       "      <td>1</td>\n",
       "      <td>[{'pos': 0, 'artist_name': 'Creedence Clearwat...</td>\n",
       "      <td>2</td>\n",
       "      <td>3408479</td>\n",
       "      <td>13</td>\n",
       "    </tr>\n",
       "    <tr>\n",
       "      <th>7</th>\n",
       "      <td>2017</td>\n",
       "      <td>false</td>\n",
       "      <td>7</td>\n",
       "      <td>1509321600</td>\n",
       "      <td>53</td>\n",
       "      <td>52</td>\n",
       "      <td>1</td>\n",
       "      <td>[{'pos': 0, 'artist_name': 'Fink', 'track_uri'...</td>\n",
       "      <td>38</td>\n",
       "      <td>12674796</td>\n",
       "      <td>48</td>\n",
       "    </tr>\n",
       "    <tr>\n",
       "      <th>8</th>\n",
       "      <td>BOP</td>\n",
       "      <td>false</td>\n",
       "      <td>8</td>\n",
       "      <td>1508976000</td>\n",
       "      <td>46</td>\n",
       "      <td>37</td>\n",
       "      <td>2</td>\n",
       "      <td>[{'pos': 0, 'artist_name': 'Catfish and the Bo...</td>\n",
       "      <td>21</td>\n",
       "      <td>9948921</td>\n",
       "      <td>23</td>\n",
       "    </tr>\n",
       "    <tr>\n",
       "      <th>9</th>\n",
       "      <td>old country</td>\n",
       "      <td>false</td>\n",
       "      <td>9</td>\n",
       "      <td>1501804800</td>\n",
       "      <td>21</td>\n",
       "      <td>20</td>\n",
       "      <td>1</td>\n",
       "      <td>[{'pos': 0, 'artist_name': 'Willie Nelson', 't...</td>\n",
       "      <td>10</td>\n",
       "      <td>4297488</td>\n",
       "      <td>18</td>\n",
       "    </tr>\n",
       "  </tbody>\n",
       "</table>\n",
       "</div>"
      ],
      "text/plain": [
       "                   name collaborative  pid  modified_at  num_tracks  \\\n",
       "0            Throwbacks         false    0   1493424000          52   \n",
       "1      Awesome Playlist         false    1   1506556800          39   \n",
       "2               korean          false    2   1505692800          64   \n",
       "3                   mat         false    3   1501027200         126   \n",
       "4                   90s         false    4   1401667200          17   \n",
       "5               Wedding         false    5   1430956800          80   \n",
       "6  I Put A Spell On You         false    6   1477094400          16   \n",
       "7                  2017         false    7   1509321600          53   \n",
       "8                   BOP         false    8   1508976000          46   \n",
       "9          old country          false    9   1501804800          21   \n",
       "\n",
       "   num_albums  num_followers  \\\n",
       "0          47              1   \n",
       "1          23              1   \n",
       "2          51              1   \n",
       "3         107              1   \n",
       "4          16              2   \n",
       "5          71              1   \n",
       "6          15              1   \n",
       "7          52              1   \n",
       "8          37              2   \n",
       "9          20              1   \n",
       "\n",
       "                                              tracks  num_edits  duration_ms  \\\n",
       "0  [{'pos': 0, 'artist_name': 'Missy Elliott', 't...          6     11532414   \n",
       "1  [{'pos': 0, 'artist_name': 'Survivor', 'track_...          5     11656470   \n",
       "2  [{'pos': 0, 'artist_name': 'Hoody', 'track_uri...         18     14039958   \n",
       "3  [{'pos': 0, 'artist_name': 'Camille Saint-Saën...          4     28926058   \n",
       "4  [{'pos': 0, 'artist_name': 'The Smashing Pumpk...          7      4335282   \n",
       "5  [{'pos': 0, 'artist_name': 'Cali Swag District...          3     19156557   \n",
       "6  [{'pos': 0, 'artist_name': 'Creedence Clearwat...          2      3408479   \n",
       "7  [{'pos': 0, 'artist_name': 'Fink', 'track_uri'...         38     12674796   \n",
       "8  [{'pos': 0, 'artist_name': 'Catfish and the Bo...         21      9948921   \n",
       "9  [{'pos': 0, 'artist_name': 'Willie Nelson', 't...         10      4297488   \n",
       "\n",
       "   num_artists  \n",
       "0           37  \n",
       "1           21  \n",
       "2           31  \n",
       "3           86  \n",
       "4           16  \n",
       "5           56  \n",
       "6           13  \n",
       "7           48  \n",
       "8           23  \n",
       "9           18  "
      ]
     },
     "execution_count": 49,
     "metadata": {},
     "output_type": "execute_result"
    }
   ],
   "source": [
    "import pandas as pd\n",
    "import os\n",
    "import numpy as np\n",
    "import json\n",
    "\n",
    "arquivo = \"./spotify_million_playlist_dataset/mpd.slice.0-999.json\"\n",
    "with open(arquivo, 'r') as file:\n",
    "    data = json.load(file)\n",
    "\n",
    "# Extrair a primeira playlist\n",
    "primeira_playlist = data['playlists'][:10]\n",
    "\n",
    "# Ler os dados diretamente como um DataFrame do pandas\n",
    "viz = pd.json_normalize(primeira_playlist)\n",
    "\n",
    "# Visualizar 10 primeiras linhas\n",
    "viz"
   ]
  },
  {
   "cell_type": "code",
   "execution_count": 57,
   "id": "d540313c",
   "metadata": {},
   "outputs": [
    {
     "name": "stdout",
     "output_type": "stream",
     "text": [
      "Todas as playlists foram concatenadas em todas_playlists.json\n"
     ]
    }
   ],
   "source": [
    "# Concatenar todos os arquivos em um unico JSON\n",
    "all_playlists = []\n",
    "\n",
    "# Diretório onde estão os arquivos JSON\n",
    "diretorio = \"./spotify_million_playlist_dataset/\"\n",
    "\n",
    "# Iterar sobre todos os arquivos no diretório\n",
    "for arq in os.listdir(diretorio):\n",
    "    if arq.endswith(\".json\"):\n",
    "        # Carregar o arquivo JSON\n",
    "        with open(os.path.join(diretorio, arq), 'r') as f:\n",
    "            data = json.load(f)\n",
    "            # Extrair o campo \"playlists\" e adicionar à lista\n",
    "            all_playlists.extend(data['playlists'])\n",
    "\n",
    "# Criar um novo arquivo JSON com todas as playlists\n",
    "with open('all_playlists.json', 'w') as f:\n",
    "    json.dump({'playlists': all_playlists}, f)\n",
    "\n"
   ]
  },
  {
   "cell_type": "code",
   "execution_count": 65,
   "id": "14b81706",
   "metadata": {},
   "outputs": [
    {
     "data": {
      "text/html": [
       "<div>\n",
       "<style scoped>\n",
       "    .dataframe tbody tr th:only-of-type {\n",
       "        vertical-align: middle;\n",
       "    }\n",
       "\n",
       "    .dataframe tbody tr th {\n",
       "        vertical-align: top;\n",
       "    }\n",
       "\n",
       "    .dataframe thead th {\n",
       "        text-align: right;\n",
       "    }\n",
       "</style>\n",
       "<table border=\"1\" class=\"dataframe\">\n",
       "  <thead>\n",
       "    <tr style=\"text-align: right;\">\n",
       "      <th></th>\n",
       "      <th>name</th>\n",
       "      <th>collaborative</th>\n",
       "      <th>pid</th>\n",
       "      <th>modified_at</th>\n",
       "      <th>num_tracks</th>\n",
       "      <th>num_albums</th>\n",
       "      <th>num_followers</th>\n",
       "      <th>tracks</th>\n",
       "      <th>num_edits</th>\n",
       "      <th>duration_ms</th>\n",
       "      <th>num_artists</th>\n",
       "      <th>description</th>\n",
       "    </tr>\n",
       "  </thead>\n",
       "  <tbody>\n",
       "    <tr>\n",
       "      <th>18990</th>\n",
       "      <td>Drake</td>\n",
       "      <td>false</td>\n",
       "      <td>999990</td>\n",
       "      <td>1485820800</td>\n",
       "      <td>11</td>\n",
       "      <td>10</td>\n",
       "      <td>1</td>\n",
       "      <td>[Drake / One Dance, Drake / Fake Love, Drake /...</td>\n",
       "      <td>7</td>\n",
       "      <td>2552785</td>\n",
       "      <td>7</td>\n",
       "      <td>NaN</td>\n",
       "    </tr>\n",
       "    <tr>\n",
       "      <th>18991</th>\n",
       "      <td>Sleep</td>\n",
       "      <td>false</td>\n",
       "      <td>999991</td>\n",
       "      <td>1416268800</td>\n",
       "      <td>39</td>\n",
       "      <td>35</td>\n",
       "      <td>2</td>\n",
       "      <td>[Thirty Seconds To Mars / Where The Streets Ha...</td>\n",
       "      <td>19</td>\n",
       "      <td>9525414</td>\n",
       "      <td>26</td>\n",
       "      <td>NaN</td>\n",
       "    </tr>\n",
       "    <tr>\n",
       "      <th>18992</th>\n",
       "      <td>GB</td>\n",
       "      <td>false</td>\n",
       "      <td>999992</td>\n",
       "      <td>1453248000</td>\n",
       "      <td>110</td>\n",
       "      <td>77</td>\n",
       "      <td>1</td>\n",
       "      <td>[Daddy Yankee / Lovumba, Tito \"El Bambino\" / E...</td>\n",
       "      <td>12</td>\n",
       "      <td>24571468</td>\n",
       "      <td>48</td>\n",
       "      <td>NaN</td>\n",
       "    </tr>\n",
       "    <tr>\n",
       "      <th>18993</th>\n",
       "      <td>Studying</td>\n",
       "      <td>false</td>\n",
       "      <td>999993</td>\n",
       "      <td>1406764800</td>\n",
       "      <td>27</td>\n",
       "      <td>19</td>\n",
       "      <td>1</td>\n",
       "      <td>[B.o.B / Airplanes (feat. Hayley Williams of P...</td>\n",
       "      <td>4</td>\n",
       "      <td>5934326</td>\n",
       "      <td>13</td>\n",
       "      <td>NaN</td>\n",
       "    </tr>\n",
       "    <tr>\n",
       "      <th>18994</th>\n",
       "      <td>Slow Songs</td>\n",
       "      <td>false</td>\n",
       "      <td>999994</td>\n",
       "      <td>1508544000</td>\n",
       "      <td>65</td>\n",
       "      <td>56</td>\n",
       "      <td>1</td>\n",
       "      <td>[Miguel / Quickie, Anthony Hamilton / The Poin...</td>\n",
       "      <td>18</td>\n",
       "      <td>16628793</td>\n",
       "      <td>44</td>\n",
       "      <td>NaN</td>\n",
       "    </tr>\n",
       "    <tr>\n",
       "      <th>18995</th>\n",
       "      <td>Praise</td>\n",
       "      <td>false</td>\n",
       "      <td>999995</td>\n",
       "      <td>1409529600</td>\n",
       "      <td>32</td>\n",
       "      <td>23</td>\n",
       "      <td>1</td>\n",
       "      <td>[Unspoken / Who You Are, NEEDTOBREATHE / Somet...</td>\n",
       "      <td>5</td>\n",
       "      <td>8502173</td>\n",
       "      <td>11</td>\n",
       "      <td>NaN</td>\n",
       "    </tr>\n",
       "    <tr>\n",
       "      <th>18996</th>\n",
       "      <td>Worship</td>\n",
       "      <td>false</td>\n",
       "      <td>999996</td>\n",
       "      <td>1475625600</td>\n",
       "      <td>122</td>\n",
       "      <td>74</td>\n",
       "      <td>1</td>\n",
       "      <td>[Pax217 / Until The Sun - Pax217 Album Version...</td>\n",
       "      <td>12</td>\n",
       "      <td>31246908</td>\n",
       "      <td>42</td>\n",
       "      <td>NaN</td>\n",
       "    </tr>\n",
       "    <tr>\n",
       "      <th>18997</th>\n",
       "      <td>Sex</td>\n",
       "      <td>false</td>\n",
       "      <td>999997</td>\n",
       "      <td>1498176000</td>\n",
       "      <td>24</td>\n",
       "      <td>22</td>\n",
       "      <td>1</td>\n",
       "      <td>[Romeo Santos / You, Aventura / El Malo, De La...</td>\n",
       "      <td>4</td>\n",
       "      <td>6015165</td>\n",
       "      <td>17</td>\n",
       "      <td>NaN</td>\n",
       "    </tr>\n",
       "    <tr>\n",
       "      <th>18998</th>\n",
       "      <td>✝️</td>\n",
       "      <td>false</td>\n",
       "      <td>999998</td>\n",
       "      <td>1506816000</td>\n",
       "      <td>11</td>\n",
       "      <td>8</td>\n",
       "      <td>1</td>\n",
       "      <td>[Hillsong United / Oceans (Where Feet May Fail...</td>\n",
       "      <td>6</td>\n",
       "      <td>2909608</td>\n",
       "      <td>5</td>\n",
       "      <td>NaN</td>\n",
       "    </tr>\n",
       "    <tr>\n",
       "      <th>18999</th>\n",
       "      <td>BANDA</td>\n",
       "      <td>false</td>\n",
       "      <td>999999</td>\n",
       "      <td>1433116800</td>\n",
       "      <td>110</td>\n",
       "      <td>57</td>\n",
       "      <td>1</td>\n",
       "      <td>[Banda Los Recoditos / Mi Último Deseo, Banda ...</td>\n",
       "      <td>13</td>\n",
       "      <td>19451365</td>\n",
       "      <td>26</td>\n",
       "      <td>NaN</td>\n",
       "    </tr>\n",
       "  </tbody>\n",
       "</table>\n",
       "</div>"
      ],
      "text/plain": [
       "             name collaborative     pid  modified_at  num_tracks  num_albums  \\\n",
       "18990      Drake          false  999990   1485820800          11          10   \n",
       "18991       Sleep         false  999991   1416268800          39          35   \n",
       "18992          GB         false  999992   1453248000         110          77   \n",
       "18993    Studying         false  999993   1406764800          27          19   \n",
       "18994  Slow Songs         false  999994   1508544000          65          56   \n",
       "18995      Praise         false  999995   1409529600          32          23   \n",
       "18996     Worship         false  999996   1475625600         122          74   \n",
       "18997         Sex         false  999997   1498176000          24          22   \n",
       "18998          ✝️         false  999998   1506816000          11           8   \n",
       "18999       BANDA         false  999999   1433116800         110          57   \n",
       "\n",
       "       num_followers                                             tracks  \\\n",
       "18990              1  [Drake / One Dance, Drake / Fake Love, Drake /...   \n",
       "18991              2  [Thirty Seconds To Mars / Where The Streets Ha...   \n",
       "18992              1  [Daddy Yankee / Lovumba, Tito \"El Bambino\" / E...   \n",
       "18993              1  [B.o.B / Airplanes (feat. Hayley Williams of P...   \n",
       "18994              1  [Miguel / Quickie, Anthony Hamilton / The Poin...   \n",
       "18995              1  [Unspoken / Who You Are, NEEDTOBREATHE / Somet...   \n",
       "18996              1  [Pax217 / Until The Sun - Pax217 Album Version...   \n",
       "18997              1  [Romeo Santos / You, Aventura / El Malo, De La...   \n",
       "18998              1  [Hillsong United / Oceans (Where Feet May Fail...   \n",
       "18999              1  [Banda Los Recoditos / Mi Último Deseo, Banda ...   \n",
       "\n",
       "       num_edits  duration_ms  num_artists description  \n",
       "18990          7      2552785            7         NaN  \n",
       "18991         19      9525414           26         NaN  \n",
       "18992         12     24571468           48         NaN  \n",
       "18993          4      5934326           13         NaN  \n",
       "18994         18     16628793           44         NaN  \n",
       "18995          5      8502173           11         NaN  \n",
       "18996         12     31246908           42         NaN  \n",
       "18997          4      6015165           17         NaN  \n",
       "18998          6      2909608            5         NaN  \n",
       "18999         13     19451365           26         NaN  "
      ]
     },
     "execution_count": 65,
     "metadata": {},
     "output_type": "execute_result"
    }
   ],
   "source": [
    "arquivo = \"all_playlists.json\"\n",
    "with open(arquivo, 'r') as file:\n",
    "    data = json.load(file)\n",
    "\n",
    "# Extrair as playlists\n",
    "playlists = data['playlists']\n",
    "\n",
    "# Ler os dados diretamente como um DataFrame do pandas\n",
    "dados = pd.json_normalize(playlists)\n",
    "\n",
    "dados['tracks'] = dados['tracks'].apply(lambda x: [f\"{track['artist_name']} / {track['track_name']}\" for track in x])\n",
    "# Visualizar 10 primeiras linhas\n",
    "dados.tail(10)\n",
    "# final_data = pd.read_json(\"all_playlists.json\")\n",
    "# final_data"
   ]
  },
  {
   "cell_type": "code",
   "execution_count": 71,
   "id": "a3187769",
   "metadata": {},
   "outputs": [
    {
     "ename": "KeyError",
     "evalue": "'Only the Series name can be used for the key in Series dtype mappings.'",
     "output_type": "error",
     "traceback": [
      "\u001b[1;31m---------------------------------------------------------------------------\u001b[0m",
      "\u001b[1;31mKeyError\u001b[0m                                  Traceback (most recent call last)",
      "\u001b[1;32m~\\AppData\\Local\\Temp\\ipykernel_13936\\3307857562.py\u001b[0m in \u001b[0;36m?\u001b[1;34m()\u001b[0m\n\u001b[1;32m----> 1\u001b[1;33m \u001b[0meval\u001b[0m\u001b[1;33m(\u001b[0m\u001b[0mdados\u001b[0m\u001b[1;33m[\u001b[0m\u001b[1;34m'tracks'\u001b[0m\u001b[1;33m]\u001b[0m\u001b[1;33m.\u001b[0m\u001b[0mastype\u001b[0m\u001b[1;33m(\u001b[0m\u001b[0mstr\u001b[0m\u001b[1;33m)\u001b[0m\u001b[1;33m)\u001b[0m\u001b[1;33m\u001b[0m\u001b[1;33m\u001b[0m\u001b[0m\n\u001b[0m",
      "\u001b[1;32mD:\\anaconda\\Lib\\site-packages\\pandas\\core\\generic.py\u001b[0m in \u001b[0;36m?\u001b[1;34m(self, dtype, copy, errors)\u001b[0m\n\u001b[0;32m   6193\u001b[0m         \"\"\"\n\u001b[0;32m   6194\u001b[0m         \u001b[1;32mif\u001b[0m \u001b[0mis_dict_like\u001b[0m\u001b[1;33m(\u001b[0m\u001b[0mdtype\u001b[0m\u001b[1;33m)\u001b[0m\u001b[1;33m:\u001b[0m\u001b[1;33m\u001b[0m\u001b[1;33m\u001b[0m\u001b[0m\n\u001b[0;32m   6195\u001b[0m             \u001b[1;32mif\u001b[0m \u001b[0mself\u001b[0m\u001b[1;33m.\u001b[0m\u001b[0mndim\u001b[0m \u001b[1;33m==\u001b[0m \u001b[1;36m1\u001b[0m\u001b[1;33m:\u001b[0m  \u001b[1;31m# i.e. Series\u001b[0m\u001b[1;33m\u001b[0m\u001b[1;33m\u001b[0m\u001b[0m\n\u001b[0;32m   6196\u001b[0m                 \u001b[1;32mif\u001b[0m \u001b[0mlen\u001b[0m\u001b[1;33m(\u001b[0m\u001b[0mdtype\u001b[0m\u001b[1;33m)\u001b[0m \u001b[1;33m>\u001b[0m \u001b[1;36m1\u001b[0m \u001b[1;32mor\u001b[0m \u001b[0mself\u001b[0m\u001b[1;33m.\u001b[0m\u001b[0mname\u001b[0m \u001b[1;32mnot\u001b[0m \u001b[1;32min\u001b[0m \u001b[0mdtype\u001b[0m\u001b[1;33m:\u001b[0m\u001b[1;33m\u001b[0m\u001b[1;33m\u001b[0m\u001b[0m\n\u001b[1;32m-> 6197\u001b[1;33m                     raise KeyError(\n\u001b[0m\u001b[0;32m   6198\u001b[0m                         \u001b[1;34m\"Only the Series name can be used for \"\u001b[0m\u001b[1;33m\u001b[0m\u001b[1;33m\u001b[0m\u001b[0m\n\u001b[0;32m   6199\u001b[0m                         \u001b[1;34m\"the key in Series dtype mappings.\"\u001b[0m\u001b[1;33m\u001b[0m\u001b[1;33m\u001b[0m\u001b[0m\n\u001b[0;32m   6200\u001b[0m                     )\n",
      "\u001b[1;31mKeyError\u001b[0m: 'Only the Series name can be used for the key in Series dtype mappings.'"
     ]
    }
   ],
   "source": [
    "eval(dados['tracks'].astype(str))"
   ]
  },
  {
   "cell_type": "code",
   "execution_count": 116,
   "id": "d42d812e",
   "metadata": {},
   "outputs": [
    {
     "name": "stdout",
     "output_type": "stream",
     "text": [
      "                                                 Track 1  \\\n",
      "0                   Robin Schulz / No Fun - Original Mix   \n",
      "1                           Kanye West / Ultralight Beam   \n",
      "2      Flo Rida / Low (feat T-Pain) - Feat T-Pain Alb...   \n",
      "3                              R. Kelly / Feelin' Single   \n",
      "4             Quimico Ultra Mega / Me Compré un Panamera   \n",
      "...                                                  ...   \n",
      "18995                             Unspoken / Who You Are   \n",
      "18996      Pax217 / Until The Sun - Pax217 Album Version   \n",
      "18997                                 Romeo Santos / You   \n",
      "18998     Hillsong United / Oceans (Where Feet May Fail)   \n",
      "18999              Banda Los Recoditos / Mi Último Deseo   \n",
      "\n",
      "                                                 Track 2  \\\n",
      "0                     The Weepies / World Spins Madly On   \n",
      "1             Kanye West / Father Stretch My Hands Pt. 1   \n",
      "2                                   Lil Wayne / Lollipop   \n",
      "3                          R. Kelly / When a Woman Loves   \n",
      "4                         Nicky Jam / Travesuras - Remix   \n",
      "...                                                  ...   \n",
      "18995                NEEDTOBREATHE / Something Beautiful   \n",
      "18996    Pax217 / Killjoy Holiday - Pax217 Album Version   \n",
      "18997                                 Aventura / El Malo   \n",
      "18998  Bethel Music / No Longer Slaves (Radio Version...   \n",
      "18999       Banda Los Recoditos / Hasta Que Salga El Sol   \n",
      "\n",
      "                                                 Track 3  \\\n",
      "0                  The Paper Kites / Bloom - Bonus Track   \n",
      "1                                     Kanye West / Pt. 2   \n",
      "2                                OneRepublic / Apologize   \n",
      "3                               R. Kelly / Radio Message   \n",
      "4                        Atomic Otro Way / Te De Campana   \n",
      "...                                                  ...   \n",
      "18995  NEEDTOBREATHE / Washed By The Water - Acoustic...   \n",
      "18996          Pax217 / Gratitude - Pax217 Album Version   \n",
      "18997  De La Ghetto / La Ocasion (feat. Arcangel, Ozu...   \n",
      "18998                          Crowder / Come As You Are   \n",
      "18999  Edwin Luna y La Trakalosa de Monterrey / Borra...   \n",
      "\n",
      "                                                 Track 4  \\\n",
      "0                              Kina Grannis / Dear River   \n",
      "1                                    Kanye West / Famous   \n",
      "2                              Usher / Love in This Club   \n",
      "3                              R. Kelly / Number One Hit   \n",
      "4                                    Ozuna / El Farsante   \n",
      "...                                                  ...   \n",
      "18995                NEEDTOBREATHE / Keep Your Eyes Open   \n",
      "18996        Pax217 / Forevermind - Pax217 Album Version   \n",
      "18997                      Romeo Santos / Héroe Favorito   \n",
      "18998                    Chris Tomlin / Good Good Father   \n",
      "18999  Edwin Luna y La Trakalosa de Monterrey / Tatua...   \n",
      "\n",
      "                                                 Track 5  \\\n",
      "0                              Kina Grannis / Chandelier   \n",
      "1                                     Kanye West / Waves   \n",
      "2                                     Ray J / Sexy Can I   \n",
      "3                        R. Kelly / Music Must Be a Lady   \n",
      "4                               Natti Natasha / Criminal   \n",
      "...                                                  ...   \n",
      "18995                    NEEDTOBREATHE / Drive All Night   \n",
      "18996             Pax217 / Shalom - Pax217 Album Version   \n",
      "18997                             Romeo Santos / Promise   \n",
      "18998                                Chris Tomlin / Home   \n",
      "18999  Diego Herrera / Como Duele (feat. Banda Tierra...   \n",
      "\n",
      "                                                 Track 6  \\\n",
      "0         Benjamin Francis Leftwich / Shine - Kygo Remix   \n",
      "1                     Kanye West / No More Parties In LA   \n",
      "2                            Rihanna / Take A Bow - Main   \n",
      "3      The Notorious B.I.G. / #!*@ You Tonight (feat....   \n",
      "4                               Natti Natasha / Criminal   \n",
      "...                                                  ...   \n",
      "18995                        tobyMac / City On Our Knees   \n",
      "18996         Pax217 / Free To Be - Pax217 Album Version   \n",
      "18997      The Weeknd / Earned It (Fifty Shades Of Grey)   \n",
      "18998                           Chris Tomlin / Waterfall   \n",
      "18999  La Adictiva Banda San José de Mesillas / Disfr...   \n",
      "\n",
      "                                                 Track 7  \\\n",
      "0                               Jack Johnson / I Got You   \n",
      "1                                           LANY / ILYSB   \n",
      "2                                Coldplay / Viva La Vida   \n",
      "3                                Mary J. Blige / It's On   \n",
      "4                                     Wisin / Vacaciones   \n",
      "...                                                  ...   \n",
      "18995                           tobyMac / Me Without You   \n",
      "18996  Pax217 / No Place Like Home - Pax217 Album Ver...   \n",
      "18997                             Jeremih / All The Time   \n",
      "18998                           Chris Tomlin / Waterfall   \n",
      "18999  La Adictiva Banda San José de Mesillas / Un Fi...   \n",
      "\n",
      "                                                 Track 8  \\\n",
      "0                         Jack Johnson / Banana Pancakes   \n",
      "1                                      Coldplay / Yellow   \n",
      "2                                         Ne-Yo / Closer   \n",
      "3                             R. Kelly / Touched A Dream   \n",
      "4                  Sebastian Yatra / Traicionera - Remix   \n",
      "...                                                  ...   \n",
      "18995  Phillips, Craig & Dean / Open the Eyes of My H...   \n",
      "18996              Pax217 / Skwid - Pax217 Album Version   \n",
      "18997                               Bruno Mars / Gorilla   \n",
      "18998                            Chris Tomlin / The Roar   \n",
      "18999  La Adictiva Banda San José de Mesillas / En la...   \n",
      "\n",
      "                                                 Track 9  \\\n",
      "0                           The Weepies / Gotta Have You   \n",
      "1                                  Kanye West / Paranoid   \n",
      "2      Madonna / 4 Minutes (feat. Justin Timberlake &...   \n",
      "3                          R. Kelly / Whole Lotta Kisses   \n",
      "4      Major Lazer / Buscando Huellas (feat. J Balvin...   \n",
      "...                                                  ...   \n",
      "18995           Phillips, Craig & Dean / Revelation Song   \n",
      "18996  Newsboys / Shine Vs Tonight - Smash-Ups Album ...   \n",
      "18997                        Bruno Mars / Our First Time   \n",
      "18998     Crowder / Lift Your Head Weary Sinner (Chains)   \n",
      "18999  Banda Sinaloense MS de Sergio Lizárraga / Hábl...   \n",
      "\n",
      "                                                Track 10  ... Track 241  \\\n",
      "0                                 Bear's Den / Bad Blood  ...             \n",
      "1      Chance The Rapper / All We Got (feat. Kanye We...  ...             \n",
      "2                              Jesse McCartney / Leavin'  ...             \n",
      "3                              R. Kelly / Just Like That  ...             \n",
      "4                              Don Omar / Yo Soy De Aqui  ...             \n",
      "...                                                  ...  ...       ...   \n",
      "18995  Phillips, Craig & Dean / When The Stars Burn D...  ...             \n",
      "18996              Pax217 / Prizm - Pax217 Album Version  ...             \n",
      "18997                                 Aventura / Un Beso  ...             \n",
      "18998                        Chris Tomlin / We Fall Down  ...             \n",
      "18999  Banda Sinaloense MS de Sergio Lizárraga / No M...  ...             \n",
      "\n",
      "      Track 242 Track 243 Track 244 Track 245 Track 246 Track 247 Track 248  \\\n",
      "0                                                                             \n",
      "1                                                                             \n",
      "2                                                                             \n",
      "3                                                                             \n",
      "4                                                                             \n",
      "...         ...       ...       ...       ...       ...       ...       ...   \n",
      "18995                                                                         \n",
      "18996                                                                         \n",
      "18997                                                                         \n",
      "18998                                                                         \n",
      "18999                                                                         \n",
      "\n",
      "      Track 249 Track 250  \n",
      "0                          \n",
      "1                          \n",
      "2                          \n",
      "3                          \n",
      "4                          \n",
      "...         ...       ...  \n",
      "18995                      \n",
      "18996                      \n",
      "18997                      \n",
      "18998                      \n",
      "18999                      \n",
      "\n",
      "[19000 rows x 250 columns]\n"
     ]
    }
   ],
   "source": [
    "\n",
    "tracks = []\n",
    "# dados['tracks'] = dados['tracks'].apply(lambda x: eval(x))\n",
    "\n",
    "# Iterar sobre o DataFrame\n",
    "for index, row in dados.iterrows():\n",
    "    # Adicionar títulos da linha atual à lista de títulos\n",
    "    tracks.append(row['tracks'])\n",
    "\n",
    "# Criar um DataFrame com os títulos\n",
    "new_df = pd.DataFrame(tracks)\n",
    "\n",
    "# Substituir os valores None por NaN\n",
    "new_df = new_df.fillna(\"\")\n",
    "\n",
    "# Renomear colunas\n",
    "new_df.columns = [f'Track {i}' for i in range(1, len(new_df.columns) + 1)]\n",
    "\n",
    "# Exibir o novo DataFrame\n",
    "print(new_df)\n",
    "\n",
    "# colunas_selecionadas = ['tracks']\n",
    "\n",
    "# # Criar um novo DataFrame com apenas as colunas selecionadas\n",
    "# dados_selecionados = dados[colunas_selecionadas]\n",
    "\n",
    "# # Salvar o novo DataFrame como um arquivo CSV\n",
    "new_df.to_csv(\"csv_data.csv\", index=False)\n"
   ]
  },
  {
   "cell_type": "code",
   "execution_count": 117,
   "id": "30fa1a12",
   "metadata": {},
   "outputs": [
    {
     "data": {
      "text/html": [
       "<div>\n",
       "<style scoped>\n",
       "    .dataframe tbody tr th:only-of-type {\n",
       "        vertical-align: middle;\n",
       "    }\n",
       "\n",
       "    .dataframe tbody tr th {\n",
       "        vertical-align: top;\n",
       "    }\n",
       "\n",
       "    .dataframe thead th {\n",
       "        text-align: right;\n",
       "    }\n",
       "</style>\n",
       "<table border=\"1\" class=\"dataframe\">\n",
       "  <thead>\n",
       "    <tr style=\"text-align: right;\">\n",
       "      <th></th>\n",
       "      <th>Track 1</th>\n",
       "      <th>Track 2</th>\n",
       "      <th>Track 3</th>\n",
       "      <th>Track 4</th>\n",
       "      <th>Track 5</th>\n",
       "      <th>Track 6</th>\n",
       "      <th>Track 7</th>\n",
       "      <th>Track 8</th>\n",
       "      <th>Track 9</th>\n",
       "      <th>Track 10</th>\n",
       "      <th>...</th>\n",
       "      <th>Track 241</th>\n",
       "      <th>Track 242</th>\n",
       "      <th>Track 243</th>\n",
       "      <th>Track 244</th>\n",
       "      <th>Track 245</th>\n",
       "      <th>Track 246</th>\n",
       "      <th>Track 247</th>\n",
       "      <th>Track 248</th>\n",
       "      <th>Track 249</th>\n",
       "      <th>Track 250</th>\n",
       "    </tr>\n",
       "  </thead>\n",
       "  <tbody>\n",
       "    <tr>\n",
       "      <th>0</th>\n",
       "      <td>Robin Schulz / No Fun - Original Mix</td>\n",
       "      <td>The Weepies / World Spins Madly On</td>\n",
       "      <td>The Paper Kites / Bloom - Bonus Track</td>\n",
       "      <td>Kina Grannis / Dear River</td>\n",
       "      <td>Kina Grannis / Chandelier</td>\n",
       "      <td>Benjamin Francis Leftwich / Shine - Kygo Remix</td>\n",
       "      <td>Jack Johnson / I Got You</td>\n",
       "      <td>Jack Johnson / Banana Pancakes</td>\n",
       "      <td>The Weepies / Gotta Have You</td>\n",
       "      <td>Bear's Den / Bad Blood</td>\n",
       "      <td>...</td>\n",
       "      <td></td>\n",
       "      <td></td>\n",
       "      <td></td>\n",
       "      <td></td>\n",
       "      <td></td>\n",
       "      <td></td>\n",
       "      <td></td>\n",
       "      <td></td>\n",
       "      <td></td>\n",
       "      <td></td>\n",
       "    </tr>\n",
       "    <tr>\n",
       "      <th>1</th>\n",
       "      <td>Kanye West / Ultralight Beam</td>\n",
       "      <td>Kanye West / Father Stretch My Hands Pt. 1</td>\n",
       "      <td>Kanye West / Pt. 2</td>\n",
       "      <td>Kanye West / Famous</td>\n",
       "      <td>Kanye West / Waves</td>\n",
       "      <td>Kanye West / No More Parties In LA</td>\n",
       "      <td>LANY / ILYSB</td>\n",
       "      <td>Coldplay / Yellow</td>\n",
       "      <td>Kanye West / Paranoid</td>\n",
       "      <td>Chance The Rapper / All We Got (feat. Kanye We...</td>\n",
       "      <td>...</td>\n",
       "      <td></td>\n",
       "      <td></td>\n",
       "      <td></td>\n",
       "      <td></td>\n",
       "      <td></td>\n",
       "      <td></td>\n",
       "      <td></td>\n",
       "      <td></td>\n",
       "      <td></td>\n",
       "      <td></td>\n",
       "    </tr>\n",
       "    <tr>\n",
       "      <th>2</th>\n",
       "      <td>Flo Rida / Low (feat T-Pain) - Feat T-Pain Alb...</td>\n",
       "      <td>Lil Wayne / Lollipop</td>\n",
       "      <td>OneRepublic / Apologize</td>\n",
       "      <td>Usher / Love in This Club</td>\n",
       "      <td>Ray J / Sexy Can I</td>\n",
       "      <td>Rihanna / Take A Bow - Main</td>\n",
       "      <td>Coldplay / Viva La Vida</td>\n",
       "      <td>Ne-Yo / Closer</td>\n",
       "      <td>Madonna / 4 Minutes (feat. Justin Timberlake &amp;...</td>\n",
       "      <td>Jesse McCartney / Leavin'</td>\n",
       "      <td>...</td>\n",
       "      <td></td>\n",
       "      <td></td>\n",
       "      <td></td>\n",
       "      <td></td>\n",
       "      <td></td>\n",
       "      <td></td>\n",
       "      <td></td>\n",
       "      <td></td>\n",
       "      <td></td>\n",
       "      <td></td>\n",
       "    </tr>\n",
       "    <tr>\n",
       "      <th>3</th>\n",
       "      <td>R. Kelly / Feelin' Single</td>\n",
       "      <td>R. Kelly / When a Woman Loves</td>\n",
       "      <td>R. Kelly / Radio Message</td>\n",
       "      <td>R. Kelly / Number One Hit</td>\n",
       "      <td>R. Kelly / Music Must Be a Lady</td>\n",
       "      <td>The Notorious B.I.G. / #!*@ You Tonight (feat....</td>\n",
       "      <td>Mary J. Blige / It's On</td>\n",
       "      <td>R. Kelly / Touched A Dream</td>\n",
       "      <td>R. Kelly / Whole Lotta Kisses</td>\n",
       "      <td>R. Kelly / Just Like That</td>\n",
       "      <td>...</td>\n",
       "      <td></td>\n",
       "      <td></td>\n",
       "      <td></td>\n",
       "      <td></td>\n",
       "      <td></td>\n",
       "      <td></td>\n",
       "      <td></td>\n",
       "      <td></td>\n",
       "      <td></td>\n",
       "      <td></td>\n",
       "    </tr>\n",
       "    <tr>\n",
       "      <th>4</th>\n",
       "      <td>Quimico Ultra Mega / Me Compré un Panamera</td>\n",
       "      <td>Nicky Jam / Travesuras - Remix</td>\n",
       "      <td>Atomic Otro Way / Te De Campana</td>\n",
       "      <td>Ozuna / El Farsante</td>\n",
       "      <td>Natti Natasha / Criminal</td>\n",
       "      <td>Natti Natasha / Criminal</td>\n",
       "      <td>Wisin / Vacaciones</td>\n",
       "      <td>Sebastian Yatra / Traicionera - Remix</td>\n",
       "      <td>Major Lazer / Buscando Huellas (feat. J Balvin...</td>\n",
       "      <td>Don Omar / Yo Soy De Aqui</td>\n",
       "      <td>...</td>\n",
       "      <td></td>\n",
       "      <td></td>\n",
       "      <td></td>\n",
       "      <td></td>\n",
       "      <td></td>\n",
       "      <td></td>\n",
       "      <td></td>\n",
       "      <td></td>\n",
       "      <td></td>\n",
       "      <td></td>\n",
       "    </tr>\n",
       "    <tr>\n",
       "      <th>...</th>\n",
       "      <td>...</td>\n",
       "      <td>...</td>\n",
       "      <td>...</td>\n",
       "      <td>...</td>\n",
       "      <td>...</td>\n",
       "      <td>...</td>\n",
       "      <td>...</td>\n",
       "      <td>...</td>\n",
       "      <td>...</td>\n",
       "      <td>...</td>\n",
       "      <td>...</td>\n",
       "      <td>...</td>\n",
       "      <td>...</td>\n",
       "      <td>...</td>\n",
       "      <td>...</td>\n",
       "      <td>...</td>\n",
       "      <td>...</td>\n",
       "      <td>...</td>\n",
       "      <td>...</td>\n",
       "      <td>...</td>\n",
       "      <td>...</td>\n",
       "    </tr>\n",
       "    <tr>\n",
       "      <th>18995</th>\n",
       "      <td>Unspoken / Who You Are</td>\n",
       "      <td>NEEDTOBREATHE / Something Beautiful</td>\n",
       "      <td>NEEDTOBREATHE / Washed By The Water - Acoustic...</td>\n",
       "      <td>NEEDTOBREATHE / Keep Your Eyes Open</td>\n",
       "      <td>NEEDTOBREATHE / Drive All Night</td>\n",
       "      <td>tobyMac / City On Our Knees</td>\n",
       "      <td>tobyMac / Me Without You</td>\n",
       "      <td>Phillips, Craig &amp; Dean / Open the Eyes of My H...</td>\n",
       "      <td>Phillips, Craig &amp; Dean / Revelation Song</td>\n",
       "      <td>Phillips, Craig &amp; Dean / When The Stars Burn D...</td>\n",
       "      <td>...</td>\n",
       "      <td></td>\n",
       "      <td></td>\n",
       "      <td></td>\n",
       "      <td></td>\n",
       "      <td></td>\n",
       "      <td></td>\n",
       "      <td></td>\n",
       "      <td></td>\n",
       "      <td></td>\n",
       "      <td></td>\n",
       "    </tr>\n",
       "    <tr>\n",
       "      <th>18996</th>\n",
       "      <td>Pax217 / Until The Sun - Pax217 Album Version</td>\n",
       "      <td>Pax217 / Killjoy Holiday - Pax217 Album Version</td>\n",
       "      <td>Pax217 / Gratitude - Pax217 Album Version</td>\n",
       "      <td>Pax217 / Forevermind - Pax217 Album Version</td>\n",
       "      <td>Pax217 / Shalom - Pax217 Album Version</td>\n",
       "      <td>Pax217 / Free To Be - Pax217 Album Version</td>\n",
       "      <td>Pax217 / No Place Like Home - Pax217 Album Ver...</td>\n",
       "      <td>Pax217 / Skwid - Pax217 Album Version</td>\n",
       "      <td>Newsboys / Shine Vs Tonight - Smash-Ups Album ...</td>\n",
       "      <td>Pax217 / Prizm - Pax217 Album Version</td>\n",
       "      <td>...</td>\n",
       "      <td></td>\n",
       "      <td></td>\n",
       "      <td></td>\n",
       "      <td></td>\n",
       "      <td></td>\n",
       "      <td></td>\n",
       "      <td></td>\n",
       "      <td></td>\n",
       "      <td></td>\n",
       "      <td></td>\n",
       "    </tr>\n",
       "    <tr>\n",
       "      <th>18997</th>\n",
       "      <td>Romeo Santos / You</td>\n",
       "      <td>Aventura / El Malo</td>\n",
       "      <td>De La Ghetto / La Ocasion (feat. Arcangel, Ozu...</td>\n",
       "      <td>Romeo Santos / Héroe Favorito</td>\n",
       "      <td>Romeo Santos / Promise</td>\n",
       "      <td>The Weeknd / Earned It (Fifty Shades Of Grey)</td>\n",
       "      <td>Jeremih / All The Time</td>\n",
       "      <td>Bruno Mars / Gorilla</td>\n",
       "      <td>Bruno Mars / Our First Time</td>\n",
       "      <td>Aventura / Un Beso</td>\n",
       "      <td>...</td>\n",
       "      <td></td>\n",
       "      <td></td>\n",
       "      <td></td>\n",
       "      <td></td>\n",
       "      <td></td>\n",
       "      <td></td>\n",
       "      <td></td>\n",
       "      <td></td>\n",
       "      <td></td>\n",
       "      <td></td>\n",
       "    </tr>\n",
       "    <tr>\n",
       "      <th>18998</th>\n",
       "      <td>Hillsong United / Oceans (Where Feet May Fail)</td>\n",
       "      <td>Bethel Music / No Longer Slaves (Radio Version...</td>\n",
       "      <td>Crowder / Come As You Are</td>\n",
       "      <td>Chris Tomlin / Good Good Father</td>\n",
       "      <td>Chris Tomlin / Home</td>\n",
       "      <td>Chris Tomlin / Waterfall</td>\n",
       "      <td>Chris Tomlin / Waterfall</td>\n",
       "      <td>Chris Tomlin / The Roar</td>\n",
       "      <td>Crowder / Lift Your Head Weary Sinner (Chains)</td>\n",
       "      <td>Chris Tomlin / We Fall Down</td>\n",
       "      <td>...</td>\n",
       "      <td></td>\n",
       "      <td></td>\n",
       "      <td></td>\n",
       "      <td></td>\n",
       "      <td></td>\n",
       "      <td></td>\n",
       "      <td></td>\n",
       "      <td></td>\n",
       "      <td></td>\n",
       "      <td></td>\n",
       "    </tr>\n",
       "    <tr>\n",
       "      <th>18999</th>\n",
       "      <td>Banda Los Recoditos / Mi Último Deseo</td>\n",
       "      <td>Banda Los Recoditos / Hasta Que Salga El Sol</td>\n",
       "      <td>Edwin Luna y La Trakalosa de Monterrey / Borra...</td>\n",
       "      <td>Edwin Luna y La Trakalosa de Monterrey / Tatua...</td>\n",
       "      <td>Diego Herrera / Como Duele (feat. Banda Tierra...</td>\n",
       "      <td>La Adictiva Banda San José de Mesillas / Disfr...</td>\n",
       "      <td>La Adictiva Banda San José de Mesillas / Un Fi...</td>\n",
       "      <td>La Adictiva Banda San José de Mesillas / En la...</td>\n",
       "      <td>Banda Sinaloense MS de Sergio Lizárraga / Hábl...</td>\n",
       "      <td>Banda Sinaloense MS de Sergio Lizárraga / No M...</td>\n",
       "      <td>...</td>\n",
       "      <td></td>\n",
       "      <td></td>\n",
       "      <td></td>\n",
       "      <td></td>\n",
       "      <td></td>\n",
       "      <td></td>\n",
       "      <td></td>\n",
       "      <td></td>\n",
       "      <td></td>\n",
       "      <td></td>\n",
       "    </tr>\n",
       "  </tbody>\n",
       "</table>\n",
       "<p>19000 rows × 250 columns</p>\n",
       "</div>"
      ],
      "text/plain": [
       "                                                 Track 1  \\\n",
       "0                   Robin Schulz / No Fun - Original Mix   \n",
       "1                           Kanye West / Ultralight Beam   \n",
       "2      Flo Rida / Low (feat T-Pain) - Feat T-Pain Alb...   \n",
       "3                              R. Kelly / Feelin' Single   \n",
       "4             Quimico Ultra Mega / Me Compré un Panamera   \n",
       "...                                                  ...   \n",
       "18995                             Unspoken / Who You Are   \n",
       "18996      Pax217 / Until The Sun - Pax217 Album Version   \n",
       "18997                                 Romeo Santos / You   \n",
       "18998     Hillsong United / Oceans (Where Feet May Fail)   \n",
       "18999              Banda Los Recoditos / Mi Último Deseo   \n",
       "\n",
       "                                                 Track 2  \\\n",
       "0                     The Weepies / World Spins Madly On   \n",
       "1             Kanye West / Father Stretch My Hands Pt. 1   \n",
       "2                                   Lil Wayne / Lollipop   \n",
       "3                          R. Kelly / When a Woman Loves   \n",
       "4                         Nicky Jam / Travesuras - Remix   \n",
       "...                                                  ...   \n",
       "18995                NEEDTOBREATHE / Something Beautiful   \n",
       "18996    Pax217 / Killjoy Holiday - Pax217 Album Version   \n",
       "18997                                 Aventura / El Malo   \n",
       "18998  Bethel Music / No Longer Slaves (Radio Version...   \n",
       "18999       Banda Los Recoditos / Hasta Que Salga El Sol   \n",
       "\n",
       "                                                 Track 3  \\\n",
       "0                  The Paper Kites / Bloom - Bonus Track   \n",
       "1                                     Kanye West / Pt. 2   \n",
       "2                                OneRepublic / Apologize   \n",
       "3                               R. Kelly / Radio Message   \n",
       "4                        Atomic Otro Way / Te De Campana   \n",
       "...                                                  ...   \n",
       "18995  NEEDTOBREATHE / Washed By The Water - Acoustic...   \n",
       "18996          Pax217 / Gratitude - Pax217 Album Version   \n",
       "18997  De La Ghetto / La Ocasion (feat. Arcangel, Ozu...   \n",
       "18998                          Crowder / Come As You Are   \n",
       "18999  Edwin Luna y La Trakalosa de Monterrey / Borra...   \n",
       "\n",
       "                                                 Track 4  \\\n",
       "0                              Kina Grannis / Dear River   \n",
       "1                                    Kanye West / Famous   \n",
       "2                              Usher / Love in This Club   \n",
       "3                              R. Kelly / Number One Hit   \n",
       "4                                    Ozuna / El Farsante   \n",
       "...                                                  ...   \n",
       "18995                NEEDTOBREATHE / Keep Your Eyes Open   \n",
       "18996        Pax217 / Forevermind - Pax217 Album Version   \n",
       "18997                      Romeo Santos / Héroe Favorito   \n",
       "18998                    Chris Tomlin / Good Good Father   \n",
       "18999  Edwin Luna y La Trakalosa de Monterrey / Tatua...   \n",
       "\n",
       "                                                 Track 5  \\\n",
       "0                              Kina Grannis / Chandelier   \n",
       "1                                     Kanye West / Waves   \n",
       "2                                     Ray J / Sexy Can I   \n",
       "3                        R. Kelly / Music Must Be a Lady   \n",
       "4                               Natti Natasha / Criminal   \n",
       "...                                                  ...   \n",
       "18995                    NEEDTOBREATHE / Drive All Night   \n",
       "18996             Pax217 / Shalom - Pax217 Album Version   \n",
       "18997                             Romeo Santos / Promise   \n",
       "18998                                Chris Tomlin / Home   \n",
       "18999  Diego Herrera / Como Duele (feat. Banda Tierra...   \n",
       "\n",
       "                                                 Track 6  \\\n",
       "0         Benjamin Francis Leftwich / Shine - Kygo Remix   \n",
       "1                     Kanye West / No More Parties In LA   \n",
       "2                            Rihanna / Take A Bow - Main   \n",
       "3      The Notorious B.I.G. / #!*@ You Tonight (feat....   \n",
       "4                               Natti Natasha / Criminal   \n",
       "...                                                  ...   \n",
       "18995                        tobyMac / City On Our Knees   \n",
       "18996         Pax217 / Free To Be - Pax217 Album Version   \n",
       "18997      The Weeknd / Earned It (Fifty Shades Of Grey)   \n",
       "18998                           Chris Tomlin / Waterfall   \n",
       "18999  La Adictiva Banda San José de Mesillas / Disfr...   \n",
       "\n",
       "                                                 Track 7  \\\n",
       "0                               Jack Johnson / I Got You   \n",
       "1                                           LANY / ILYSB   \n",
       "2                                Coldplay / Viva La Vida   \n",
       "3                                Mary J. Blige / It's On   \n",
       "4                                     Wisin / Vacaciones   \n",
       "...                                                  ...   \n",
       "18995                           tobyMac / Me Without You   \n",
       "18996  Pax217 / No Place Like Home - Pax217 Album Ver...   \n",
       "18997                             Jeremih / All The Time   \n",
       "18998                           Chris Tomlin / Waterfall   \n",
       "18999  La Adictiva Banda San José de Mesillas / Un Fi...   \n",
       "\n",
       "                                                 Track 8  \\\n",
       "0                         Jack Johnson / Banana Pancakes   \n",
       "1                                      Coldplay / Yellow   \n",
       "2                                         Ne-Yo / Closer   \n",
       "3                             R. Kelly / Touched A Dream   \n",
       "4                  Sebastian Yatra / Traicionera - Remix   \n",
       "...                                                  ...   \n",
       "18995  Phillips, Craig & Dean / Open the Eyes of My H...   \n",
       "18996              Pax217 / Skwid - Pax217 Album Version   \n",
       "18997                               Bruno Mars / Gorilla   \n",
       "18998                            Chris Tomlin / The Roar   \n",
       "18999  La Adictiva Banda San José de Mesillas / En la...   \n",
       "\n",
       "                                                 Track 9  \\\n",
       "0                           The Weepies / Gotta Have You   \n",
       "1                                  Kanye West / Paranoid   \n",
       "2      Madonna / 4 Minutes (feat. Justin Timberlake &...   \n",
       "3                          R. Kelly / Whole Lotta Kisses   \n",
       "4      Major Lazer / Buscando Huellas (feat. J Balvin...   \n",
       "...                                                  ...   \n",
       "18995           Phillips, Craig & Dean / Revelation Song   \n",
       "18996  Newsboys / Shine Vs Tonight - Smash-Ups Album ...   \n",
       "18997                        Bruno Mars / Our First Time   \n",
       "18998     Crowder / Lift Your Head Weary Sinner (Chains)   \n",
       "18999  Banda Sinaloense MS de Sergio Lizárraga / Hábl...   \n",
       "\n",
       "                                                Track 10  ... Track 241  \\\n",
       "0                                 Bear's Den / Bad Blood  ...             \n",
       "1      Chance The Rapper / All We Got (feat. Kanye We...  ...             \n",
       "2                              Jesse McCartney / Leavin'  ...             \n",
       "3                              R. Kelly / Just Like That  ...             \n",
       "4                              Don Omar / Yo Soy De Aqui  ...             \n",
       "...                                                  ...  ...       ...   \n",
       "18995  Phillips, Craig & Dean / When The Stars Burn D...  ...             \n",
       "18996              Pax217 / Prizm - Pax217 Album Version  ...             \n",
       "18997                                 Aventura / Un Beso  ...             \n",
       "18998                        Chris Tomlin / We Fall Down  ...             \n",
       "18999  Banda Sinaloense MS de Sergio Lizárraga / No M...  ...             \n",
       "\n",
       "      Track 242 Track 243 Track 244 Track 245 Track 246 Track 247 Track 248  \\\n",
       "0                                                                             \n",
       "1                                                                             \n",
       "2                                                                             \n",
       "3                                                                             \n",
       "4                                                                             \n",
       "...         ...       ...       ...       ...       ...       ...       ...   \n",
       "18995                                                                         \n",
       "18996                                                                         \n",
       "18997                                                                         \n",
       "18998                                                                         \n",
       "18999                                                                         \n",
       "\n",
       "      Track 249 Track 250  \n",
       "0                          \n",
       "1                          \n",
       "2                          \n",
       "3                          \n",
       "4                          \n",
       "...         ...       ...  \n",
       "18995                      \n",
       "18996                      \n",
       "18997                      \n",
       "18998                      \n",
       "18999                      \n",
       "\n",
       "[19000 rows x 250 columns]"
      ]
     },
     "execution_count": 117,
     "metadata": {},
     "output_type": "execute_result"
    }
   ],
   "source": [
    "new_df"
   ]
  },
  {
   "cell_type": "code",
   "execution_count": 118,
   "id": "63f45c11",
   "metadata": {},
   "outputs": [],
   "source": [
    "registros = []\n",
    "\n",
    "# Explicação: para o modelo ler os dados, é preciso mudar a estrutura dos dados de DataFrame para uma matriz.\n",
    "# Sendo assim, esse loop irá mapear cada linha e coluna para fazer essa transformação\n",
    "\n",
    "num_colunas = 250\n",
    "for linha in range(0, len(new_df)):\n",
    "    registro_linha = []\n",
    "    for coluna in range(0, num_colunas):\n",
    "        registro_linha.append(new_df.iloc[linha, coluna])\n",
    "    registros.append(registro_linha)\n",
    "\n",
    "    \n",
    "    \n",
    "# # Exibir os registros\n",
    "# for registro in registros:\n",
    "#     print(registro)\n",
    "\n"
   ]
  },
  {
   "cell_type": "code",
   "execution_count": 119,
   "id": "cfc4b31f",
   "metadata": {},
   "outputs": [],
   "source": [
    "with open('matrix.txt', 'w') as arquivo:\n",
    "    json.dump(registros, arquivo)\n",
    "\n"
   ]
  },
  {
   "cell_type": "code",
   "execution_count": 120,
   "id": "396f3920",
   "metadata": {},
   "outputs": [],
   "source": [
    "# Ler a lista de volta do arquivo JSON\n",
    "with open('matrix.txt', 'r') as arquivo:\n",
    "    matriz = json.load(arquivo)"
   ]
  },
  {
   "cell_type": "code",
   "execution_count": 121,
   "id": "a70540ec",
   "metadata": {},
   "outputs": [
    {
     "data": {
      "text/plain": [
       "'R. Kelly / Music Must Be a Lady'"
      ]
     },
     "execution_count": 121,
     "metadata": {},
     "output_type": "execute_result"
    }
   ],
   "source": [
    "matriz[3][4]"
   ]
  },
  {
   "cell_type": "code",
   "execution_count": 128,
   "id": "27536c69",
   "metadata": {},
   "outputs": [
    {
     "data": {
      "text/plain": [
       "166"
      ]
     },
     "execution_count": 128,
     "metadata": {},
     "output_type": "execute_result"
    }
   ],
   "source": [
    "from apyori import apriori\n",
    "arules = apriori(matriz,min_support=0.0122, min_confidence=0.20,min_lift=2)\n",
    "association_results = list(arules)\n",
    "len(association_results)"
   ]
  },
  {
   "cell_type": "code",
   "execution_count": 201,
   "id": "e2006332",
   "metadata": {},
   "outputs": [],
   "source": [
    "results = []\n",
    "conjuntos_filtrados = [conjunto for conjunto in association_results if '' not in conjunto]\n",
    "\n",
    "for item in conjuntos_filtrados:\n",
    "    \n",
    "    pair = item[0]\n",
    "    items = [x for x in pair]\n",
    "    \n",
    "    if items[0] != '' and  items[1] != '' and items[0] != items[1]:\n",
    "        value6 = items[0]+\" & \"+items[1]\n",
    "        value0 = items[0]\n",
    "        value1 = items[1]\n",
    "    \n",
    "    value2 = item[1]\n",
    "    \n",
    "    value3 = item[2][0][2]\n",
    "    value4 = item[2][0][3]\n",
    "    \n",
    "    rows = (value6,value0,value1,value2,value3,value4)\n",
    "    results.append(rows)\n",
    "    \n",
    "labels = [\"Associação\",\"Musica 1\",\"Musica 2\", \"Support\", \"Confidence\",\"Lift\"]\n",
    "\n",
    "music_suggestion = pd.DataFrame.from_records(results,columns=labels)"
   ]
  },
  {
   "cell_type": "code",
   "execution_count": 202,
   "id": "00935828",
   "metadata": {},
   "outputs": [],
   "source": [
    "music_suggestion.drop_duplicates(subset=['Musica 1', 'Musica 2'], inplace=True)"
   ]
  },
  {
   "cell_type": "code",
   "execution_count": 203,
   "id": "74e14266",
   "metadata": {},
   "outputs": [
    {
     "data": {
      "text/html": [
       "<div>\n",
       "<style scoped>\n",
       "    .dataframe tbody tr th:only-of-type {\n",
       "        vertical-align: middle;\n",
       "    }\n",
       "\n",
       "    .dataframe tbody tr th {\n",
       "        vertical-align: top;\n",
       "    }\n",
       "\n",
       "    .dataframe thead th {\n",
       "        text-align: right;\n",
       "    }\n",
       "</style>\n",
       "<table border=\"1\" class=\"dataframe\">\n",
       "  <thead>\n",
       "    <tr style=\"text-align: right;\">\n",
       "      <th></th>\n",
       "      <th>Associação</th>\n",
       "      <th>Musica 1</th>\n",
       "      <th>Musica 2</th>\n",
       "      <th>Support</th>\n",
       "      <th>Confidence</th>\n",
       "      <th>Lift</th>\n",
       "    </tr>\n",
       "  </thead>\n",
       "  <tbody>\n",
       "    <tr>\n",
       "      <th>62</th>\n",
       "      <td>Lil Uzi Vert / You Was Right &amp; Lil Uzi Vert / ...</td>\n",
       "      <td>Lil Uzi Vert / You Was Right</td>\n",
       "      <td>Lil Uzi Vert / Money Longer</td>\n",
       "      <td>0.012421</td>\n",
       "      <td>0.563246</td>\n",
       "      <td>25.974929</td>\n",
       "    </tr>\n",
       "    <tr>\n",
       "      <th>75</th>\n",
       "      <td>Migos / Slippery (feat. Gucci Mane) &amp; Migos / ...</td>\n",
       "      <td>Migos / Slippery (feat. Gucci Mane)</td>\n",
       "      <td>Migos / T-Shirt</td>\n",
       "      <td>0.013421</td>\n",
       "      <td>0.539112</td>\n",
       "      <td>21.840360</td>\n",
       "    </tr>\n",
       "    <tr>\n",
       "      <th>4</th>\n",
       "      <td>A Boogie Wit da Hoodie / Drowning (feat. Kodak...</td>\n",
       "      <td>A Boogie Wit da Hoodie / Drowning (feat. Kodak...</td>\n",
       "      <td>Lil Uzi Vert / XO TOUR Llif3</td>\n",
       "      <td>0.013421</td>\n",
       "      <td>0.658915</td>\n",
       "      <td>18.797868</td>\n",
       "    </tr>\n",
       "    <tr>\n",
       "      <th>39</th>\n",
       "      <td>Future / Mask Off &amp; Kodak Black / Tunnel Vision</td>\n",
       "      <td>Future / Mask Off</td>\n",
       "      <td>Kodak Black / Tunnel Vision</td>\n",
       "      <td>0.014421</td>\n",
       "      <td>0.428795</td>\n",
       "      <td>18.064534</td>\n",
       "    </tr>\n",
       "    <tr>\n",
       "      <th>60</th>\n",
       "      <td>Kodak Black / Tunnel Vision &amp; Lil Uzi Vert / X...</td>\n",
       "      <td>Kodak Black / Tunnel Vision</td>\n",
       "      <td>Lil Uzi Vert / XO TOUR Llif3</td>\n",
       "      <td>0.014789</td>\n",
       "      <td>0.623060</td>\n",
       "      <td>17.774981</td>\n",
       "    </tr>\n",
       "    <tr>\n",
       "      <th>...</th>\n",
       "      <td>...</td>\n",
       "      <td>...</td>\n",
       "      <td>...</td>\n",
       "      <td>...</td>\n",
       "      <td>...</td>\n",
       "      <td>...</td>\n",
       "    </tr>\n",
       "    <tr>\n",
       "      <th>26</th>\n",
       "      <td>KYLE / iSpy (feat. Lil Yachty) &amp; DRAM / Brocco...</td>\n",
       "      <td>KYLE / iSpy (feat. Lil Yachty)</td>\n",
       "      <td>DRAM / Broccoli (feat. Lil Yachty)</td>\n",
       "      <td>0.013263</td>\n",
       "      <td>0.326003</td>\n",
       "      <td>9.082184</td>\n",
       "    </tr>\n",
       "    <tr>\n",
       "      <th>13</th>\n",
       "      <td>Big Sean / Bounce Back &amp; DRAM / Broccoli (feat...</td>\n",
       "      <td>Big Sean / Bounce Back</td>\n",
       "      <td>DRAM / Broccoli (feat. Lil Yachty)</td>\n",
       "      <td>0.012842</td>\n",
       "      <td>0.354136</td>\n",
       "      <td>8.704518</td>\n",
       "    </tr>\n",
       "    <tr>\n",
       "      <th>9</th>\n",
       "      <td>Kendrick Lamar / HUMBLE. &amp; Aminé / Caroline</td>\n",
       "      <td>Kendrick Lamar / HUMBLE.</td>\n",
       "      <td>Aminé / Caroline</td>\n",
       "      <td>0.013421</td>\n",
       "      <td>0.363248</td>\n",
       "      <td>7.601002</td>\n",
       "    </tr>\n",
       "    <tr>\n",
       "      <th>25</th>\n",
       "      <td>Drake / One Dance &amp; DRAM / Broccoli (feat. Lil...</td>\n",
       "      <td>Drake / One Dance</td>\n",
       "      <td>DRAM / Broccoli (feat. Lil Yachty)</td>\n",
       "      <td>0.012474</td>\n",
       "      <td>0.306598</td>\n",
       "      <td>7.263536</td>\n",
       "    </tr>\n",
       "    <tr>\n",
       "      <th>27</th>\n",
       "      <td>Kendrick Lamar / HUMBLE. &amp; DRAM / Broccoli (fe...</td>\n",
       "      <td>Kendrick Lamar / HUMBLE.</td>\n",
       "      <td>DRAM / Broccoli (feat. Lil Yachty)</td>\n",
       "      <td>0.012895</td>\n",
       "      <td>0.316947</td>\n",
       "      <td>6.632150</td>\n",
       "    </tr>\n",
       "  </tbody>\n",
       "</table>\n",
       "<p>80 rows × 6 columns</p>\n",
       "</div>"
      ],
      "text/plain": [
       "                                           Associação  \\\n",
       "62  Lil Uzi Vert / You Was Right & Lil Uzi Vert / ...   \n",
       "75  Migos / Slippery (feat. Gucci Mane) & Migos / ...   \n",
       "4   A Boogie Wit da Hoodie / Drowning (feat. Kodak...   \n",
       "39    Future / Mask Off & Kodak Black / Tunnel Vision   \n",
       "60  Kodak Black / Tunnel Vision & Lil Uzi Vert / X...   \n",
       "..                                                ...   \n",
       "26  KYLE / iSpy (feat. Lil Yachty) & DRAM / Brocco...   \n",
       "13  Big Sean / Bounce Back & DRAM / Broccoli (feat...   \n",
       "9         Kendrick Lamar / HUMBLE. & Aminé / Caroline   \n",
       "25  Drake / One Dance & DRAM / Broccoli (feat. Lil...   \n",
       "27  Kendrick Lamar / HUMBLE. & DRAM / Broccoli (fe...   \n",
       "\n",
       "                                             Musica 1  \\\n",
       "62                       Lil Uzi Vert / You Was Right   \n",
       "75                Migos / Slippery (feat. Gucci Mane)   \n",
       "4   A Boogie Wit da Hoodie / Drowning (feat. Kodak...   \n",
       "39                                  Future / Mask Off   \n",
       "60                        Kodak Black / Tunnel Vision   \n",
       "..                                                ...   \n",
       "26                     KYLE / iSpy (feat. Lil Yachty)   \n",
       "13                             Big Sean / Bounce Back   \n",
       "9                            Kendrick Lamar / HUMBLE.   \n",
       "25                                  Drake / One Dance   \n",
       "27                           Kendrick Lamar / HUMBLE.   \n",
       "\n",
       "                              Musica 2   Support  Confidence       Lift  \n",
       "62         Lil Uzi Vert / Money Longer  0.012421    0.563246  25.974929  \n",
       "75                     Migos / T-Shirt  0.013421    0.539112  21.840360  \n",
       "4         Lil Uzi Vert / XO TOUR Llif3  0.013421    0.658915  18.797868  \n",
       "39         Kodak Black / Tunnel Vision  0.014421    0.428795  18.064534  \n",
       "60        Lil Uzi Vert / XO TOUR Llif3  0.014789    0.623060  17.774981  \n",
       "..                                 ...       ...         ...        ...  \n",
       "26  DRAM / Broccoli (feat. Lil Yachty)  0.013263    0.326003   9.082184  \n",
       "13  DRAM / Broccoli (feat. Lil Yachty)  0.012842    0.354136   8.704518  \n",
       "9                     Aminé / Caroline  0.013421    0.363248   7.601002  \n",
       "25  DRAM / Broccoli (feat. Lil Yachty)  0.012474    0.306598   7.263536  \n",
       "27  DRAM / Broccoli (feat. Lil Yachty)  0.012895    0.316947   6.632150  \n",
       "\n",
       "[80 rows x 6 columns]"
      ]
     },
     "execution_count": 203,
     "metadata": {},
     "output_type": "execute_result"
    }
   ],
   "source": [
    "music_suggestion.sort_values(by='Lift',ascending=False)[:100]"
   ]
  },
  {
   "cell_type": "code",
   "execution_count": 212,
   "id": "99e5964c",
   "metadata": {},
   "outputs": [
    {
     "data": {
      "application/vnd.plotly.v1+json": {
       "config": {
        "plotlyServerURL": "https://plot.ly"
       },
       "data": [
        {
         "hovertemplate": "<b>%{hovertext}</b><br><br>Support=%{x}<br>Confidence=%{y}<br>Lift=%{marker.color}<extra></extra>",
         "hovertext": [
          "Lil Uzi Vert / You Was Right & Lil Uzi Vert / Money Longer",
          "Migos / Slippery (feat. Gucci Mane) & Migos / T-Shirt",
          "A Boogie Wit da Hoodie / Drowning (feat. Kodak Black) & Lil Uzi Vert / XO TOUR Llif3",
          "Future / Mask Off & Kodak Black / Tunnel Vision",
          "Kodak Black / Tunnel Vision & Lil Uzi Vert / XO TOUR Llif3",
          "Lil Uzi Vert / XO TOUR Llif3 & 21 Savage / Bank Account",
          "Lil Uzi Vert / XO TOUR Llif3 & Migos / Slippery (feat. Gucci Mane)",
          "Kendrick Lamar / HUMBLE. & Kendrick Lamar / DNA.",
          "Migos / Bad and Boujee (feat. Lil Uzi Vert) & Migos / T-Shirt",
          "Future / Mask Off & Migos / T-Shirt",
          "Future / Mask Off & Lil Uzi Vert / XO TOUR Llif3",
          "Future / Mask Off & Migos / Slippery (feat. Gucci Mane)",
          "Travis Scott / goosebumps & Migos / T-Shirt",
          "21 Savage / X (feat. Future) & Migos / Bad and Boujee (feat. Lil Uzi Vert)",
          "Migos / Slippery (feat. Gucci Mane) & Travis Scott / goosebumps",
          "Lil Uzi Vert / XO TOUR Llif3 & Migos / T-Shirt",
          "The Chainsmokers / Closer & Major Lazer / Cold Water (feat. Justin Bieber & MØ)",
          "Big Sean / Bounce Back & Migos / Bad and Boujee (feat. Lil Uzi Vert)",
          "Drake / Controlla & Drake / One Dance",
          "Lil Uzi Vert / XO TOUR Llif3 & Travis Scott / goosebumps"
         ],
         "legendgroup": "",
         "marker": {
          "color": [
           25.97492874852284,
           21.84036026451854,
           18.797867635076937,
           18.06453403842617,
           17.774981189615335,
           17.6472315836619,
           17.551378016494294,
           16.658028850306643,
           16.51357790019321,
           16.230050285127014,
           16.161701607711,
           15.967073287741483,
           15.716924217897612,
           15.690124909780156,
           15.65118400305458,
           15.511246854530437,
           14.905399169358562,
           14.879824983294245,
           14.837905236907728,
           14.789036528166964
          ],
          "coloraxis": "coloraxis",
          "symbol": "circle"
         },
         "mode": "markers",
         "name": "",
         "scene": "scene",
         "showlegend": false,
         "type": "scatter3d",
         "x": [
          0.012421052631578947,
          0.013421052631578948,
          0.013421052631578948,
          0.014421052631578947,
          0.014789473684210526,
          0.01331578947368421,
          0.01531578947368421,
          0.021368421052631578,
          0.01463157894736842,
          0.013473684210526317,
          0.01905263157894737,
          0.01336842105263158,
          0.012210526315789474,
          0.01336842105263158,
          0.012263157894736842,
          0.013421052631578948,
          0.012526315789473684,
          0.01936842105263158,
          0.012526315789473684,
          0.01631578947368421
         ],
         "y": [
          0.5632458233890215,
          0.5391120507399577,
          0.6589147286821706,
          0.42879499217527384,
          0.623059866962306,
          0.6185819070904645,
          0.4369369369369369,
          0.796078431372549,
          0.407624633431085,
          0.40062597809076683,
          0.566510172143975,
          0.3974960876369327,
          0.4946695095948827,
          0.5631929046563193,
          0.49260042283298094,
          0.3828828828828829,
          0.6040609137055838,
          0.5341074020319303,
          0.6263157894736842,
          0.46546546546546547
         ],
         "z": [
          25.97492874852284,
          21.84036026451854,
          18.797867635076937,
          18.06453403842617,
          17.774981189615335,
          17.6472315836619,
          17.551378016494294,
          16.658028850306643,
          16.51357790019321,
          16.230050285127014,
          16.161701607711,
          15.967073287741483,
          15.716924217897612,
          15.690124909780156,
          15.65118400305458,
          15.511246854530437,
          14.905399169358562,
          14.879824983294245,
          14.837905236907728,
          14.789036528166964
         ]
        }
       ],
       "layout": {
        "coloraxis": {
         "colorbar": {
          "title": {
           "text": "Lift"
          }
         },
         "colorscale": [
          [
           0,
           "rgb(0,0,0)"
          ],
          [
           0.3333333333333333,
           "rgb(230,0,0)"
          ],
          [
           0.6666666666666666,
           "rgb(255,210,0)"
          ],
          [
           1,
           "rgb(255,255,255)"
          ]
         ]
        },
        "legend": {
         "tracegroupgap": 0
        },
        "margin": {
         "t": 60
        },
        "scene": {
         "domain": {
          "x": [
           0,
           1
          ],
          "y": [
           0,
           1
          ]
         },
         "xaxis": {
          "title": {
           "text": "Support"
          }
         },
         "yaxis": {
          "title": {
           "text": "Confidence"
          }
         },
         "zaxis": {
          "title": {
           "text": "Lift"
          }
         }
        },
        "template": {
         "data": {
          "bar": [
           {
            "error_x": {
             "color": "#2a3f5f"
            },
            "error_y": {
             "color": "#2a3f5f"
            },
            "marker": {
             "line": {
              "color": "#E5ECF6",
              "width": 0.5
             },
             "pattern": {
              "fillmode": "overlay",
              "size": 10,
              "solidity": 0.2
             }
            },
            "type": "bar"
           }
          ],
          "barpolar": [
           {
            "marker": {
             "line": {
              "color": "#E5ECF6",
              "width": 0.5
             },
             "pattern": {
              "fillmode": "overlay",
              "size": 10,
              "solidity": 0.2
             }
            },
            "type": "barpolar"
           }
          ],
          "carpet": [
           {
            "aaxis": {
             "endlinecolor": "#2a3f5f",
             "gridcolor": "white",
             "linecolor": "white",
             "minorgridcolor": "white",
             "startlinecolor": "#2a3f5f"
            },
            "baxis": {
             "endlinecolor": "#2a3f5f",
             "gridcolor": "white",
             "linecolor": "white",
             "minorgridcolor": "white",
             "startlinecolor": "#2a3f5f"
            },
            "type": "carpet"
           }
          ],
          "choropleth": [
           {
            "colorbar": {
             "outlinewidth": 0,
             "ticks": ""
            },
            "type": "choropleth"
           }
          ],
          "contour": [
           {
            "colorbar": {
             "outlinewidth": 0,
             "ticks": ""
            },
            "colorscale": [
             [
              0,
              "#0d0887"
             ],
             [
              0.1111111111111111,
              "#46039f"
             ],
             [
              0.2222222222222222,
              "#7201a8"
             ],
             [
              0.3333333333333333,
              "#9c179e"
             ],
             [
              0.4444444444444444,
              "#bd3786"
             ],
             [
              0.5555555555555556,
              "#d8576b"
             ],
             [
              0.6666666666666666,
              "#ed7953"
             ],
             [
              0.7777777777777778,
              "#fb9f3a"
             ],
             [
              0.8888888888888888,
              "#fdca26"
             ],
             [
              1,
              "#f0f921"
             ]
            ],
            "type": "contour"
           }
          ],
          "contourcarpet": [
           {
            "colorbar": {
             "outlinewidth": 0,
             "ticks": ""
            },
            "type": "contourcarpet"
           }
          ],
          "heatmap": [
           {
            "colorbar": {
             "outlinewidth": 0,
             "ticks": ""
            },
            "colorscale": [
             [
              0,
              "#0d0887"
             ],
             [
              0.1111111111111111,
              "#46039f"
             ],
             [
              0.2222222222222222,
              "#7201a8"
             ],
             [
              0.3333333333333333,
              "#9c179e"
             ],
             [
              0.4444444444444444,
              "#bd3786"
             ],
             [
              0.5555555555555556,
              "#d8576b"
             ],
             [
              0.6666666666666666,
              "#ed7953"
             ],
             [
              0.7777777777777778,
              "#fb9f3a"
             ],
             [
              0.8888888888888888,
              "#fdca26"
             ],
             [
              1,
              "#f0f921"
             ]
            ],
            "type": "heatmap"
           }
          ],
          "heatmapgl": [
           {
            "colorbar": {
             "outlinewidth": 0,
             "ticks": ""
            },
            "colorscale": [
             [
              0,
              "#0d0887"
             ],
             [
              0.1111111111111111,
              "#46039f"
             ],
             [
              0.2222222222222222,
              "#7201a8"
             ],
             [
              0.3333333333333333,
              "#9c179e"
             ],
             [
              0.4444444444444444,
              "#bd3786"
             ],
             [
              0.5555555555555556,
              "#d8576b"
             ],
             [
              0.6666666666666666,
              "#ed7953"
             ],
             [
              0.7777777777777778,
              "#fb9f3a"
             ],
             [
              0.8888888888888888,
              "#fdca26"
             ],
             [
              1,
              "#f0f921"
             ]
            ],
            "type": "heatmapgl"
           }
          ],
          "histogram": [
           {
            "marker": {
             "pattern": {
              "fillmode": "overlay",
              "size": 10,
              "solidity": 0.2
             }
            },
            "type": "histogram"
           }
          ],
          "histogram2d": [
           {
            "colorbar": {
             "outlinewidth": 0,
             "ticks": ""
            },
            "colorscale": [
             [
              0,
              "#0d0887"
             ],
             [
              0.1111111111111111,
              "#46039f"
             ],
             [
              0.2222222222222222,
              "#7201a8"
             ],
             [
              0.3333333333333333,
              "#9c179e"
             ],
             [
              0.4444444444444444,
              "#bd3786"
             ],
             [
              0.5555555555555556,
              "#d8576b"
             ],
             [
              0.6666666666666666,
              "#ed7953"
             ],
             [
              0.7777777777777778,
              "#fb9f3a"
             ],
             [
              0.8888888888888888,
              "#fdca26"
             ],
             [
              1,
              "#f0f921"
             ]
            ],
            "type": "histogram2d"
           }
          ],
          "histogram2dcontour": [
           {
            "colorbar": {
             "outlinewidth": 0,
             "ticks": ""
            },
            "colorscale": [
             [
              0,
              "#0d0887"
             ],
             [
              0.1111111111111111,
              "#46039f"
             ],
             [
              0.2222222222222222,
              "#7201a8"
             ],
             [
              0.3333333333333333,
              "#9c179e"
             ],
             [
              0.4444444444444444,
              "#bd3786"
             ],
             [
              0.5555555555555556,
              "#d8576b"
             ],
             [
              0.6666666666666666,
              "#ed7953"
             ],
             [
              0.7777777777777778,
              "#fb9f3a"
             ],
             [
              0.8888888888888888,
              "#fdca26"
             ],
             [
              1,
              "#f0f921"
             ]
            ],
            "type": "histogram2dcontour"
           }
          ],
          "mesh3d": [
           {
            "colorbar": {
             "outlinewidth": 0,
             "ticks": ""
            },
            "type": "mesh3d"
           }
          ],
          "parcoords": [
           {
            "line": {
             "colorbar": {
              "outlinewidth": 0,
              "ticks": ""
             }
            },
            "type": "parcoords"
           }
          ],
          "pie": [
           {
            "automargin": true,
            "type": "pie"
           }
          ],
          "scatter": [
           {
            "fillpattern": {
             "fillmode": "overlay",
             "size": 10,
             "solidity": 0.2
            },
            "type": "scatter"
           }
          ],
          "scatter3d": [
           {
            "line": {
             "colorbar": {
              "outlinewidth": 0,
              "ticks": ""
             }
            },
            "marker": {
             "colorbar": {
              "outlinewidth": 0,
              "ticks": ""
             }
            },
            "type": "scatter3d"
           }
          ],
          "scattercarpet": [
           {
            "marker": {
             "colorbar": {
              "outlinewidth": 0,
              "ticks": ""
             }
            },
            "type": "scattercarpet"
           }
          ],
          "scattergeo": [
           {
            "marker": {
             "colorbar": {
              "outlinewidth": 0,
              "ticks": ""
             }
            },
            "type": "scattergeo"
           }
          ],
          "scattergl": [
           {
            "marker": {
             "colorbar": {
              "outlinewidth": 0,
              "ticks": ""
             }
            },
            "type": "scattergl"
           }
          ],
          "scattermapbox": [
           {
            "marker": {
             "colorbar": {
              "outlinewidth": 0,
              "ticks": ""
             }
            },
            "type": "scattermapbox"
           }
          ],
          "scatterpolar": [
           {
            "marker": {
             "colorbar": {
              "outlinewidth": 0,
              "ticks": ""
             }
            },
            "type": "scatterpolar"
           }
          ],
          "scatterpolargl": [
           {
            "marker": {
             "colorbar": {
              "outlinewidth": 0,
              "ticks": ""
             }
            },
            "type": "scatterpolargl"
           }
          ],
          "scatterternary": [
           {
            "marker": {
             "colorbar": {
              "outlinewidth": 0,
              "ticks": ""
             }
            },
            "type": "scatterternary"
           }
          ],
          "surface": [
           {
            "colorbar": {
             "outlinewidth": 0,
             "ticks": ""
            },
            "colorscale": [
             [
              0,
              "#0d0887"
             ],
             [
              0.1111111111111111,
              "#46039f"
             ],
             [
              0.2222222222222222,
              "#7201a8"
             ],
             [
              0.3333333333333333,
              "#9c179e"
             ],
             [
              0.4444444444444444,
              "#bd3786"
             ],
             [
              0.5555555555555556,
              "#d8576b"
             ],
             [
              0.6666666666666666,
              "#ed7953"
             ],
             [
              0.7777777777777778,
              "#fb9f3a"
             ],
             [
              0.8888888888888888,
              "#fdca26"
             ],
             [
              1,
              "#f0f921"
             ]
            ],
            "type": "surface"
           }
          ],
          "table": [
           {
            "cells": {
             "fill": {
              "color": "#EBF0F8"
             },
             "line": {
              "color": "white"
             }
            },
            "header": {
             "fill": {
              "color": "#C8D4E3"
             },
             "line": {
              "color": "white"
             }
            },
            "type": "table"
           }
          ]
         },
         "layout": {
          "annotationdefaults": {
           "arrowcolor": "#2a3f5f",
           "arrowhead": 0,
           "arrowwidth": 1
          },
          "autotypenumbers": "strict",
          "coloraxis": {
           "colorbar": {
            "outlinewidth": 0,
            "ticks": ""
           }
          },
          "colorscale": {
           "diverging": [
            [
             0,
             "#8e0152"
            ],
            [
             0.1,
             "#c51b7d"
            ],
            [
             0.2,
             "#de77ae"
            ],
            [
             0.3,
             "#f1b6da"
            ],
            [
             0.4,
             "#fde0ef"
            ],
            [
             0.5,
             "#f7f7f7"
            ],
            [
             0.6,
             "#e6f5d0"
            ],
            [
             0.7,
             "#b8e186"
            ],
            [
             0.8,
             "#7fbc41"
            ],
            [
             0.9,
             "#4d9221"
            ],
            [
             1,
             "#276419"
            ]
           ],
           "sequential": [
            [
             0,
             "#0d0887"
            ],
            [
             0.1111111111111111,
             "#46039f"
            ],
            [
             0.2222222222222222,
             "#7201a8"
            ],
            [
             0.3333333333333333,
             "#9c179e"
            ],
            [
             0.4444444444444444,
             "#bd3786"
            ],
            [
             0.5555555555555556,
             "#d8576b"
            ],
            [
             0.6666666666666666,
             "#ed7953"
            ],
            [
             0.7777777777777778,
             "#fb9f3a"
            ],
            [
             0.8888888888888888,
             "#fdca26"
            ],
            [
             1,
             "#f0f921"
            ]
           ],
           "sequentialminus": [
            [
             0,
             "#0d0887"
            ],
            [
             0.1111111111111111,
             "#46039f"
            ],
            [
             0.2222222222222222,
             "#7201a8"
            ],
            [
             0.3333333333333333,
             "#9c179e"
            ],
            [
             0.4444444444444444,
             "#bd3786"
            ],
            [
             0.5555555555555556,
             "#d8576b"
            ],
            [
             0.6666666666666666,
             "#ed7953"
            ],
            [
             0.7777777777777778,
             "#fb9f3a"
            ],
            [
             0.8888888888888888,
             "#fdca26"
            ],
            [
             1,
             "#f0f921"
            ]
           ]
          },
          "colorway": [
           "#636efa",
           "#EF553B",
           "#00cc96",
           "#ab63fa",
           "#FFA15A",
           "#19d3f3",
           "#FF6692",
           "#B6E880",
           "#FF97FF",
           "#FECB52"
          ],
          "font": {
           "color": "#2a3f5f"
          },
          "geo": {
           "bgcolor": "white",
           "lakecolor": "white",
           "landcolor": "#E5ECF6",
           "showlakes": true,
           "showland": true,
           "subunitcolor": "white"
          },
          "hoverlabel": {
           "align": "left"
          },
          "hovermode": "closest",
          "mapbox": {
           "style": "light"
          },
          "paper_bgcolor": "white",
          "plot_bgcolor": "#E5ECF6",
          "polar": {
           "angularaxis": {
            "gridcolor": "white",
            "linecolor": "white",
            "ticks": ""
           },
           "bgcolor": "#E5ECF6",
           "radialaxis": {
            "gridcolor": "white",
            "linecolor": "white",
            "ticks": ""
           }
          },
          "scene": {
           "xaxis": {
            "backgroundcolor": "#E5ECF6",
            "gridcolor": "white",
            "gridwidth": 2,
            "linecolor": "white",
            "showbackground": true,
            "ticks": "",
            "zerolinecolor": "white"
           },
           "yaxis": {
            "backgroundcolor": "#E5ECF6",
            "gridcolor": "white",
            "gridwidth": 2,
            "linecolor": "white",
            "showbackground": true,
            "ticks": "",
            "zerolinecolor": "white"
           },
           "zaxis": {
            "backgroundcolor": "#E5ECF6",
            "gridcolor": "white",
            "gridwidth": 2,
            "linecolor": "white",
            "showbackground": true,
            "ticks": "",
            "zerolinecolor": "white"
           }
          },
          "shapedefaults": {
           "line": {
            "color": "#2a3f5f"
           }
          },
          "ternary": {
           "aaxis": {
            "gridcolor": "white",
            "linecolor": "white",
            "ticks": ""
           },
           "baxis": {
            "gridcolor": "white",
            "linecolor": "white",
            "ticks": ""
           },
           "bgcolor": "#E5ECF6",
           "caxis": {
            "gridcolor": "white",
            "linecolor": "white",
            "ticks": ""
           }
          },
          "title": {
           "x": 0.05
          },
          "xaxis": {
           "automargin": true,
           "gridcolor": "white",
           "linecolor": "white",
           "ticks": "",
           "title": {
            "standoff": 15
           },
           "zerolinecolor": "white",
           "zerolinewidth": 2
          },
          "yaxis": {
           "automargin": true,
           "gridcolor": "white",
           "linecolor": "white",
           "ticks": "",
           "title": {
            "standoff": 15
           },
           "zerolinecolor": "white",
           "zerolinewidth": 2
          }
         }
        }
       }
      },
      "text/html": [
       "<div>                            <div id=\"c0308e8d-61e8-4730-9e15-1af8891e8b74\" class=\"plotly-graph-div\" style=\"height:525px; width:100%;\"></div>            <script type=\"text/javascript\">                require([\"plotly\"], function(Plotly) {                    window.PLOTLYENV=window.PLOTLYENV || {};                                    if (document.getElementById(\"c0308e8d-61e8-4730-9e15-1af8891e8b74\")) {                    Plotly.newPlot(                        \"c0308e8d-61e8-4730-9e15-1af8891e8b74\",                        [{\"hovertemplate\":\"\\u003cb\\u003e%{hovertext}\\u003c\\u002fb\\u003e\\u003cbr\\u003e\\u003cbr\\u003eSupport=%{x}\\u003cbr\\u003eConfidence=%{y}\\u003cbr\\u003eLift=%{marker.color}\\u003cextra\\u003e\\u003c\\u002fextra\\u003e\",\"hovertext\":[\"Lil Uzi Vert \\u002f You Was Right & Lil Uzi Vert \\u002f Money Longer\",\"Migos \\u002f Slippery (feat. Gucci Mane) & Migos \\u002f T-Shirt\",\"A Boogie Wit da Hoodie \\u002f Drowning (feat. Kodak Black) & Lil Uzi Vert \\u002f XO TOUR Llif3\",\"Future \\u002f Mask Off & Kodak Black \\u002f Tunnel Vision\",\"Kodak Black \\u002f Tunnel Vision & Lil Uzi Vert \\u002f XO TOUR Llif3\",\"Lil Uzi Vert \\u002f XO TOUR Llif3 & 21 Savage \\u002f Bank Account\",\"Lil Uzi Vert \\u002f XO TOUR Llif3 & Migos \\u002f Slippery (feat. Gucci Mane)\",\"Kendrick Lamar \\u002f HUMBLE. & Kendrick Lamar \\u002f DNA.\",\"Migos \\u002f Bad and Boujee (feat. Lil Uzi Vert) & Migos \\u002f T-Shirt\",\"Future \\u002f Mask Off & Migos \\u002f T-Shirt\",\"Future \\u002f Mask Off & Lil Uzi Vert \\u002f XO TOUR Llif3\",\"Future \\u002f Mask Off & Migos \\u002f Slippery (feat. Gucci Mane)\",\"Travis Scott \\u002f goosebumps & Migos \\u002f T-Shirt\",\"21 Savage \\u002f X (feat. Future) & Migos \\u002f Bad and Boujee (feat. Lil Uzi Vert)\",\"Migos \\u002f Slippery (feat. Gucci Mane) & Travis Scott \\u002f goosebumps\",\"Lil Uzi Vert \\u002f XO TOUR Llif3 & Migos \\u002f T-Shirt\",\"The Chainsmokers \\u002f Closer & Major Lazer \\u002f Cold Water (feat. Justin Bieber & MØ)\",\"Big Sean \\u002f Bounce Back & Migos \\u002f Bad and Boujee (feat. Lil Uzi Vert)\",\"Drake \\u002f Controlla & Drake \\u002f One Dance\",\"Lil Uzi Vert \\u002f XO TOUR Llif3 & Travis Scott \\u002f goosebumps\"],\"legendgroup\":\"\",\"marker\":{\"color\":[25.97492874852284,21.84036026451854,18.797867635076937,18.06453403842617,17.774981189615335,17.6472315836619,17.551378016494294,16.658028850306643,16.51357790019321,16.230050285127014,16.161701607711,15.967073287741483,15.716924217897612,15.690124909780156,15.65118400305458,15.511246854530437,14.905399169358562,14.879824983294245,14.837905236907728,14.789036528166964],\"coloraxis\":\"coloraxis\",\"symbol\":\"circle\"},\"mode\":\"markers\",\"name\":\"\",\"scene\":\"scene\",\"showlegend\":false,\"x\":[0.012421052631578947,0.013421052631578948,0.013421052631578948,0.014421052631578947,0.014789473684210526,0.01331578947368421,0.01531578947368421,0.021368421052631578,0.01463157894736842,0.013473684210526317,0.01905263157894737,0.01336842105263158,0.012210526315789474,0.01336842105263158,0.012263157894736842,0.013421052631578948,0.012526315789473684,0.01936842105263158,0.012526315789473684,0.01631578947368421],\"y\":[0.5632458233890215,0.5391120507399577,0.6589147286821706,0.42879499217527384,0.623059866962306,0.6185819070904645,0.4369369369369369,0.796078431372549,0.407624633431085,0.40062597809076683,0.566510172143975,0.3974960876369327,0.4946695095948827,0.5631929046563193,0.49260042283298094,0.3828828828828829,0.6040609137055838,0.5341074020319303,0.6263157894736842,0.46546546546546547],\"z\":[25.97492874852284,21.84036026451854,18.797867635076937,18.06453403842617,17.774981189615335,17.6472315836619,17.551378016494294,16.658028850306643,16.51357790019321,16.230050285127014,16.161701607711,15.967073287741483,15.716924217897612,15.690124909780156,15.65118400305458,15.511246854530437,14.905399169358562,14.879824983294245,14.837905236907728,14.789036528166964],\"type\":\"scatter3d\"}],                        {\"template\":{\"data\":{\"histogram2dcontour\":[{\"type\":\"histogram2dcontour\",\"colorbar\":{\"outlinewidth\":0,\"ticks\":\"\"},\"colorscale\":[[0.0,\"#0d0887\"],[0.1111111111111111,\"#46039f\"],[0.2222222222222222,\"#7201a8\"],[0.3333333333333333,\"#9c179e\"],[0.4444444444444444,\"#bd3786\"],[0.5555555555555556,\"#d8576b\"],[0.6666666666666666,\"#ed7953\"],[0.7777777777777778,\"#fb9f3a\"],[0.8888888888888888,\"#fdca26\"],[1.0,\"#f0f921\"]]}],\"choropleth\":[{\"type\":\"choropleth\",\"colorbar\":{\"outlinewidth\":0,\"ticks\":\"\"}}],\"histogram2d\":[{\"type\":\"histogram2d\",\"colorbar\":{\"outlinewidth\":0,\"ticks\":\"\"},\"colorscale\":[[0.0,\"#0d0887\"],[0.1111111111111111,\"#46039f\"],[0.2222222222222222,\"#7201a8\"],[0.3333333333333333,\"#9c179e\"],[0.4444444444444444,\"#bd3786\"],[0.5555555555555556,\"#d8576b\"],[0.6666666666666666,\"#ed7953\"],[0.7777777777777778,\"#fb9f3a\"],[0.8888888888888888,\"#fdca26\"],[1.0,\"#f0f921\"]]}],\"heatmap\":[{\"type\":\"heatmap\",\"colorbar\":{\"outlinewidth\":0,\"ticks\":\"\"},\"colorscale\":[[0.0,\"#0d0887\"],[0.1111111111111111,\"#46039f\"],[0.2222222222222222,\"#7201a8\"],[0.3333333333333333,\"#9c179e\"],[0.4444444444444444,\"#bd3786\"],[0.5555555555555556,\"#d8576b\"],[0.6666666666666666,\"#ed7953\"],[0.7777777777777778,\"#fb9f3a\"],[0.8888888888888888,\"#fdca26\"],[1.0,\"#f0f921\"]]}],\"heatmapgl\":[{\"type\":\"heatmapgl\",\"colorbar\":{\"outlinewidth\":0,\"ticks\":\"\"},\"colorscale\":[[0.0,\"#0d0887\"],[0.1111111111111111,\"#46039f\"],[0.2222222222222222,\"#7201a8\"],[0.3333333333333333,\"#9c179e\"],[0.4444444444444444,\"#bd3786\"],[0.5555555555555556,\"#d8576b\"],[0.6666666666666666,\"#ed7953\"],[0.7777777777777778,\"#fb9f3a\"],[0.8888888888888888,\"#fdca26\"],[1.0,\"#f0f921\"]]}],\"contourcarpet\":[{\"type\":\"contourcarpet\",\"colorbar\":{\"outlinewidth\":0,\"ticks\":\"\"}}],\"contour\":[{\"type\":\"contour\",\"colorbar\":{\"outlinewidth\":0,\"ticks\":\"\"},\"colorscale\":[[0.0,\"#0d0887\"],[0.1111111111111111,\"#46039f\"],[0.2222222222222222,\"#7201a8\"],[0.3333333333333333,\"#9c179e\"],[0.4444444444444444,\"#bd3786\"],[0.5555555555555556,\"#d8576b\"],[0.6666666666666666,\"#ed7953\"],[0.7777777777777778,\"#fb9f3a\"],[0.8888888888888888,\"#fdca26\"],[1.0,\"#f0f921\"]]}],\"surface\":[{\"type\":\"surface\",\"colorbar\":{\"outlinewidth\":0,\"ticks\":\"\"},\"colorscale\":[[0.0,\"#0d0887\"],[0.1111111111111111,\"#46039f\"],[0.2222222222222222,\"#7201a8\"],[0.3333333333333333,\"#9c179e\"],[0.4444444444444444,\"#bd3786\"],[0.5555555555555556,\"#d8576b\"],[0.6666666666666666,\"#ed7953\"],[0.7777777777777778,\"#fb9f3a\"],[0.8888888888888888,\"#fdca26\"],[1.0,\"#f0f921\"]]}],\"mesh3d\":[{\"type\":\"mesh3d\",\"colorbar\":{\"outlinewidth\":0,\"ticks\":\"\"}}],\"scatter\":[{\"fillpattern\":{\"fillmode\":\"overlay\",\"size\":10,\"solidity\":0.2},\"type\":\"scatter\"}],\"parcoords\":[{\"type\":\"parcoords\",\"line\":{\"colorbar\":{\"outlinewidth\":0,\"ticks\":\"\"}}}],\"scatterpolargl\":[{\"type\":\"scatterpolargl\",\"marker\":{\"colorbar\":{\"outlinewidth\":0,\"ticks\":\"\"}}}],\"bar\":[{\"error_x\":{\"color\":\"#2a3f5f\"},\"error_y\":{\"color\":\"#2a3f5f\"},\"marker\":{\"line\":{\"color\":\"#E5ECF6\",\"width\":0.5},\"pattern\":{\"fillmode\":\"overlay\",\"size\":10,\"solidity\":0.2}},\"type\":\"bar\"}],\"scattergeo\":[{\"type\":\"scattergeo\",\"marker\":{\"colorbar\":{\"outlinewidth\":0,\"ticks\":\"\"}}}],\"scatterpolar\":[{\"type\":\"scatterpolar\",\"marker\":{\"colorbar\":{\"outlinewidth\":0,\"ticks\":\"\"}}}],\"histogram\":[{\"marker\":{\"pattern\":{\"fillmode\":\"overlay\",\"size\":10,\"solidity\":0.2}},\"type\":\"histogram\"}],\"scattergl\":[{\"type\":\"scattergl\",\"marker\":{\"colorbar\":{\"outlinewidth\":0,\"ticks\":\"\"}}}],\"scatter3d\":[{\"type\":\"scatter3d\",\"line\":{\"colorbar\":{\"outlinewidth\":0,\"ticks\":\"\"}},\"marker\":{\"colorbar\":{\"outlinewidth\":0,\"ticks\":\"\"}}}],\"scattermapbox\":[{\"type\":\"scattermapbox\",\"marker\":{\"colorbar\":{\"outlinewidth\":0,\"ticks\":\"\"}}}],\"scatterternary\":[{\"type\":\"scatterternary\",\"marker\":{\"colorbar\":{\"outlinewidth\":0,\"ticks\":\"\"}}}],\"scattercarpet\":[{\"type\":\"scattercarpet\",\"marker\":{\"colorbar\":{\"outlinewidth\":0,\"ticks\":\"\"}}}],\"carpet\":[{\"aaxis\":{\"endlinecolor\":\"#2a3f5f\",\"gridcolor\":\"white\",\"linecolor\":\"white\",\"minorgridcolor\":\"white\",\"startlinecolor\":\"#2a3f5f\"},\"baxis\":{\"endlinecolor\":\"#2a3f5f\",\"gridcolor\":\"white\",\"linecolor\":\"white\",\"minorgridcolor\":\"white\",\"startlinecolor\":\"#2a3f5f\"},\"type\":\"carpet\"}],\"table\":[{\"cells\":{\"fill\":{\"color\":\"#EBF0F8\"},\"line\":{\"color\":\"white\"}},\"header\":{\"fill\":{\"color\":\"#C8D4E3\"},\"line\":{\"color\":\"white\"}},\"type\":\"table\"}],\"barpolar\":[{\"marker\":{\"line\":{\"color\":\"#E5ECF6\",\"width\":0.5},\"pattern\":{\"fillmode\":\"overlay\",\"size\":10,\"solidity\":0.2}},\"type\":\"barpolar\"}],\"pie\":[{\"automargin\":true,\"type\":\"pie\"}]},\"layout\":{\"autotypenumbers\":\"strict\",\"colorway\":[\"#636efa\",\"#EF553B\",\"#00cc96\",\"#ab63fa\",\"#FFA15A\",\"#19d3f3\",\"#FF6692\",\"#B6E880\",\"#FF97FF\",\"#FECB52\"],\"font\":{\"color\":\"#2a3f5f\"},\"hovermode\":\"closest\",\"hoverlabel\":{\"align\":\"left\"},\"paper_bgcolor\":\"white\",\"plot_bgcolor\":\"#E5ECF6\",\"polar\":{\"bgcolor\":\"#E5ECF6\",\"angularaxis\":{\"gridcolor\":\"white\",\"linecolor\":\"white\",\"ticks\":\"\"},\"radialaxis\":{\"gridcolor\":\"white\",\"linecolor\":\"white\",\"ticks\":\"\"}},\"ternary\":{\"bgcolor\":\"#E5ECF6\",\"aaxis\":{\"gridcolor\":\"white\",\"linecolor\":\"white\",\"ticks\":\"\"},\"baxis\":{\"gridcolor\":\"white\",\"linecolor\":\"white\",\"ticks\":\"\"},\"caxis\":{\"gridcolor\":\"white\",\"linecolor\":\"white\",\"ticks\":\"\"}},\"coloraxis\":{\"colorbar\":{\"outlinewidth\":0,\"ticks\":\"\"}},\"colorscale\":{\"sequential\":[[0.0,\"#0d0887\"],[0.1111111111111111,\"#46039f\"],[0.2222222222222222,\"#7201a8\"],[0.3333333333333333,\"#9c179e\"],[0.4444444444444444,\"#bd3786\"],[0.5555555555555556,\"#d8576b\"],[0.6666666666666666,\"#ed7953\"],[0.7777777777777778,\"#fb9f3a\"],[0.8888888888888888,\"#fdca26\"],[1.0,\"#f0f921\"]],\"sequentialminus\":[[0.0,\"#0d0887\"],[0.1111111111111111,\"#46039f\"],[0.2222222222222222,\"#7201a8\"],[0.3333333333333333,\"#9c179e\"],[0.4444444444444444,\"#bd3786\"],[0.5555555555555556,\"#d8576b\"],[0.6666666666666666,\"#ed7953\"],[0.7777777777777778,\"#fb9f3a\"],[0.8888888888888888,\"#fdca26\"],[1.0,\"#f0f921\"]],\"diverging\":[[0,\"#8e0152\"],[0.1,\"#c51b7d\"],[0.2,\"#de77ae\"],[0.3,\"#f1b6da\"],[0.4,\"#fde0ef\"],[0.5,\"#f7f7f7\"],[0.6,\"#e6f5d0\"],[0.7,\"#b8e186\"],[0.8,\"#7fbc41\"],[0.9,\"#4d9221\"],[1,\"#276419\"]]},\"xaxis\":{\"gridcolor\":\"white\",\"linecolor\":\"white\",\"ticks\":\"\",\"title\":{\"standoff\":15},\"zerolinecolor\":\"white\",\"automargin\":true,\"zerolinewidth\":2},\"yaxis\":{\"gridcolor\":\"white\",\"linecolor\":\"white\",\"ticks\":\"\",\"title\":{\"standoff\":15},\"zerolinecolor\":\"white\",\"automargin\":true,\"zerolinewidth\":2},\"scene\":{\"xaxis\":{\"backgroundcolor\":\"#E5ECF6\",\"gridcolor\":\"white\",\"linecolor\":\"white\",\"showbackground\":true,\"ticks\":\"\",\"zerolinecolor\":\"white\",\"gridwidth\":2},\"yaxis\":{\"backgroundcolor\":\"#E5ECF6\",\"gridcolor\":\"white\",\"linecolor\":\"white\",\"showbackground\":true,\"ticks\":\"\",\"zerolinecolor\":\"white\",\"gridwidth\":2},\"zaxis\":{\"backgroundcolor\":\"#E5ECF6\",\"gridcolor\":\"white\",\"linecolor\":\"white\",\"showbackground\":true,\"ticks\":\"\",\"zerolinecolor\":\"white\",\"gridwidth\":2}},\"shapedefaults\":{\"line\":{\"color\":\"#2a3f5f\"}},\"annotationdefaults\":{\"arrowcolor\":\"#2a3f5f\",\"arrowhead\":0,\"arrowwidth\":1},\"geo\":{\"bgcolor\":\"white\",\"landcolor\":\"#E5ECF6\",\"subunitcolor\":\"white\",\"showland\":true,\"showlakes\":true,\"lakecolor\":\"white\"},\"title\":{\"x\":0.05},\"mapbox\":{\"style\":\"light\"}}},\"scene\":{\"domain\":{\"x\":[0.0,1.0],\"y\":[0.0,1.0]},\"xaxis\":{\"title\":{\"text\":\"Support\"}},\"yaxis\":{\"title\":{\"text\":\"Confidence\"}},\"zaxis\":{\"title\":{\"text\":\"Lift\"}}},\"coloraxis\":{\"colorbar\":{\"title\":{\"text\":\"Lift\"}},\"colorscale\":[[0.0,\"rgb(0,0,0)\"],[0.3333333333333333,\"rgb(230,0,0)\"],[0.6666666666666666,\"rgb(255,210,0)\"],[1.0,\"rgb(255,255,255)\"]]},\"legend\":{\"tracegroupgap\":0},\"margin\":{\"t\":60}},                        {\"responsive\": true}                    ).then(function(){\n",
       "                            \n",
       "var gd = document.getElementById('c0308e8d-61e8-4730-9e15-1af8891e8b74');\n",
       "var x = new MutationObserver(function (mutations, observer) {{\n",
       "        var display = window.getComputedStyle(gd).display;\n",
       "        if (!display || display === 'none') {{\n",
       "            console.log([gd, 'removed!']);\n",
       "            Plotly.purge(gd);\n",
       "            observer.disconnect();\n",
       "        }}\n",
       "}});\n",
       "\n",
       "// Listen for the removal of the full notebook cells\n",
       "var notebookContainer = gd.closest('#notebook-container');\n",
       "if (notebookContainer) {{\n",
       "    x.observe(notebookContainer, {childList: true});\n",
       "}}\n",
       "\n",
       "// Listen for the clearing of the current output cell\n",
       "var outputEl = gd.closest('.output');\n",
       "if (outputEl) {{\n",
       "    x.observe(outputEl, {childList: true});\n",
       "}}\n",
       "\n",
       "                        })                };                });            </script>        </div>"
      ]
     },
     "metadata": {},
     "output_type": "display_data"
    }
   ],
   "source": [
    "import plotly.express as px\n",
    "\n",
    "\n",
    "df = music_suggestion.sort_values(by='Lift',ascending=False)[:20]\n",
    "\n",
    "fig = px.scatter_3d(df, x='Support', y='Confidence', z='Lift',hover_name='Associação',color='Lift',color_continuous_scale='hot')\n",
    "\n",
    "fig.show()"
   ]
  },
  {
   "cell_type": "code",
   "execution_count": null,
   "id": "bec3f12c",
   "metadata": {},
   "outputs": [],
   "source": []
  }
 ],
 "metadata": {
  "kernelspec": {
   "display_name": "Python 3 (ipykernel)",
   "language": "python",
   "name": "python3"
  },
  "language_info": {
   "codemirror_mode": {
    "name": "ipython",
    "version": 3
   },
   "file_extension": ".py",
   "mimetype": "text/x-python",
   "name": "python",
   "nbconvert_exporter": "python",
   "pygments_lexer": "ipython3",
   "version": "3.11.5"
  }
 },
 "nbformat": 4,
 "nbformat_minor": 5
}
